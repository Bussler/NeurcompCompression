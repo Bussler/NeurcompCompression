{
 "cells": [
  {
   "cell_type": "code",
   "execution_count": 1,
   "id": "b29595e2",
   "metadata": {},
   "outputs": [
    {
     "name": "stderr",
     "output_type": "stream",
     "text": [
      "/home/bussler/anaconda3/envs/DeepLearning/lib/python3.10/site-packages/tqdm/auto.py:22: TqdmWarning: IProgress not found. Please update jupyter and ipywidgets. See https://ipywidgets.readthedocs.io/en/stable/user_install.html\n",
      "  from .autonotebook import tqdm as notebook_tqdm\n"
     ]
    },
    {
     "ename": "NameError",
     "evalue": "name 'create_experiment' is not defined",
     "output_type": "error",
     "traceback": [
      "\u001b[0;31m---------------------------------------------------------------------------\u001b[0m",
      "\u001b[0;31mNameError\u001b[0m                                 Traceback (most recent call last)",
      "Cell \u001b[0;32mIn[1], line 3\u001b[0m\n\u001b[1;32m      1\u001b[0m \u001b[38;5;28;01mfrom\u001b[39;00m \u001b[38;5;21;01mMulti_Objective_NAS\u001b[39;00m \u001b[38;5;28;01mimport\u001b[39;00m create_experiment_scheduler\n\u001b[0;32m----> 3\u001b[0m experiment, scheduler \u001b[38;5;241m=\u001b[39m \u001b[43mcreate_experiment\u001b[49m(\u001b[38;5;124m'\u001b[39m\u001b[38;5;124mNeurcompTraining.py\u001b[39m\u001b[38;5;124m'\u001b[39m, \u001b[38;5;241m20\u001b[39m)\n",
      "\u001b[0;31mNameError\u001b[0m: name 'create_experiment' is not defined"
     ]
    }
   ],
   "source": [
    "from Multi_Objective_NAS import create_experiment_scheduler\n",
    "\n",
    "experiment, scheduler = create_experiment_scheduler('NeurcompTraining.py', 20)"
   ]
  },
  {
   "cell_type": "code",
   "execution_count": 7,
   "id": "16064df2",
   "metadata": {},
   "outputs": [
    {
     "name": "stderr",
     "output_type": "stream",
     "text": [
      "/home/bussler/anaconda3/envs/DeepLearning/lib/python3.10/site-packages/ax/core/observation.py:274: FutureWarning:\n",
      "\n",
      "In a future version of pandas, a length 1 tuple will be returned when iterating over a groupby with a grouper equal to a list of length 1. Don't supply a list with a single grouper to avoid this warning.\n",
      "\n",
      "[INFO 12-01 17:56:47] Scheduler: Running trials [0]...\n",
      "/home/bussler/anaconda3/envs/DeepLearning/lib/python3.10/site-packages/ax/core/observation.py:274: FutureWarning:\n",
      "\n",
      "In a future version of pandas, a length 1 tuple will be returned when iterating over a groupby with a grouper equal to a list of length 1. Don't supply a list with a single grouper to avoid this warning.\n",
      "\n",
      "[INFO 12-01 17:56:47] Scheduler: Running trials [1]...\n",
      "/home/bussler/anaconda3/envs/DeepLearning/lib/python3.10/site-packages/ax/core/observation.py:274: FutureWarning:\n",
      "\n",
      "In a future version of pandas, a length 1 tuple will be returned when iterating over a groupby with a grouper equal to a list of length 1. Don't supply a list with a single grouper to avoid this warning.\n",
      "\n",
      "[INFO 12-01 17:56:48] Scheduler: Running trials [2]...\n",
      "/home/bussler/anaconda3/envs/DeepLearning/lib/python3.10/site-packages/ax/core/observation.py:274: FutureWarning:\n",
      "\n",
      "In a future version of pandas, a length 1 tuple will be returned when iterating over a groupby with a grouper equal to a list of length 1. Don't supply a list with a single grouper to avoid this warning.\n",
      "\n",
      "[INFO 12-01 17:56:49] Scheduler: Running trials [3]...\n",
      "[INFO 12-01 17:56:50] Scheduler: Waiting for completed trials (for 1 sec, currently running trials: 4).\n",
      "[INFO 12-01 17:56:51] Scheduler: Waiting for completed trials (for 1.5 sec, currently running trials: 4).\n",
      "[INFO 12-01 17:56:53] Scheduler: Waiting for completed trials (for 2 sec, currently running trials: 4).\n",
      "[INFO 12-01 17:56:55] Scheduler: Waiting for completed trials (for 3 sec, currently running trials: 4).\n",
      "[INFO 12-01 17:56:58] Scheduler: Waiting for completed trials (for 5 sec, currently running trials: 4).\n",
      "[INFO 12-01 17:57:03] Scheduler: Waiting for completed trials (for 7 sec, currently running trials: 4).\n",
      "[INFO 12-01 17:57:11] Scheduler: Waiting for completed trials (for 11 sec, currently running trials: 4).\n",
      "[INFO 12-01 17:57:22] Scheduler: Retrieved COMPLETED trials: [1].\n",
      "[INFO 12-01 17:57:22] Scheduler: Fetching data for trials: [1].\n",
      "[INFO 12-01 17:57:22] Scheduler: Running trials [4]...\n",
      "[INFO 12-01 17:57:23] Scheduler: Retrieved COMPLETED trials: [3].\n",
      "[INFO 12-01 17:57:23] Scheduler: Fetching data for trials: [3].\n",
      "[INFO 12-01 17:57:23] Scheduler: Waiting for completed trials (for 1 sec, currently running trials: 3).\n",
      "[INFO 12-01 17:57:24] Scheduler: Waiting for completed trials (for 1.5 sec, currently running trials: 3).\n",
      "[INFO 12-01 17:57:26] Scheduler: Waiting for completed trials (for 2 sec, currently running trials: 3).\n",
      "[INFO 12-01 17:57:28] Scheduler: Waiting for completed trials (for 3 sec, currently running trials: 3).\n",
      "[INFO 12-01 17:57:32] Scheduler: Retrieved COMPLETED trials: [0].\n",
      "[INFO 12-01 17:57:32] Scheduler: Fetching data for trials: [0].\n",
      "[INFO 12-01 17:57:34] Scheduler: Running trials [5]...\n",
      "[INFO 12-01 17:57:37] Scheduler: Running trials [6]...\n",
      "[INFO 12-01 17:57:38] Scheduler: Waiting for completed trials (for 1 sec, currently running trials: 4).\n",
      "[INFO 12-01 17:57:39] Scheduler: Waiting for completed trials (for 1.5 sec, currently running trials: 4).\n",
      "[INFO 12-01 17:57:40] Scheduler: Waiting for completed trials (for 2 sec, currently running trials: 4).\n",
      "[INFO 12-01 17:57:42] Scheduler: Retrieved COMPLETED trials: [4].\n",
      "[INFO 12-01 17:57:42] Scheduler: Fetching data for trials: [4].\n",
      "[INFO 12-01 17:57:46] Scheduler: Running trials [7]...\n",
      "[INFO 12-01 17:57:47] Scheduler: Waiting for completed trials (for 1 sec, currently running trials: 4).\n",
      "[INFO 12-01 17:57:48] Scheduler: Waiting for completed trials (for 1.5 sec, currently running trials: 4).\n",
      "[INFO 12-01 17:57:50] Scheduler: Waiting for completed trials (for 2 sec, currently running trials: 4).\n",
      "[INFO 12-01 17:57:52] Scheduler: Waiting for completed trials (for 3 sec, currently running trials: 4).\n",
      "[INFO 12-01 17:57:56] Scheduler: Retrieved COMPLETED trials: [2].\n",
      "[INFO 12-01 17:57:56] Scheduler: Fetching data for trials: [2].\n",
      "[INFO 12-01 17:57:56] Scheduler: Waiting for completed trials (for 1 sec, currently running trials: 3).\n",
      "[INFO 12-01 17:57:57] Scheduler: Waiting for completed trials (for 1.5 sec, currently running trials: 3).\n",
      "[INFO 12-01 17:57:58] Scheduler: Waiting for completed trials (for 2 sec, currently running trials: 3).\n",
      "[INFO 12-01 17:58:01] Scheduler: Waiting for completed trials (for 3 sec, currently running trials: 3).\n",
      "[INFO 12-01 17:58:04] Scheduler: Waiting for completed trials (for 5 sec, currently running trials: 3).\n",
      "[INFO 12-01 17:58:09] Scheduler: Waiting for completed trials (for 7 sec, currently running trials: 3).\n",
      "[INFO 12-01 17:58:17] Scheduler: Waiting for completed trials (for 11 sec, currently running trials: 3).\n",
      "[INFO 12-01 17:58:28] Scheduler: Retrieved COMPLETED trials: 5 - 7.\n",
      "[INFO 12-01 17:58:28] Scheduler: Fetching data for trials: 5 - 7.\n",
      "[INFO 12-01 17:58:29] Scheduler: Running trials [8]...\n",
      "[INFO 12-01 17:58:32] Scheduler: Running trials [9]...\n",
      "[INFO 12-01 17:58:34] Scheduler: Running trials [10]...\n",
      "[INFO 12-01 17:58:36] Scheduler: Generated all trials that can be generated currently. Max parallelism currently reached.\n",
      "[INFO 12-01 17:58:36] Scheduler: Waiting for completed trials (for 1 sec, currently running trials: 3).\n",
      "[INFO 12-01 17:58:37] Scheduler: Waiting for completed trials (for 1.5 sec, currently running trials: 3).\n",
      "[INFO 12-01 17:58:39] Scheduler: Waiting for completed trials (for 2 sec, currently running trials: 3).\n",
      "[INFO 12-01 17:58:41] Scheduler: Waiting for completed trials (for 3 sec, currently running trials: 3).\n",
      "[INFO 12-01 17:58:44] Scheduler: Waiting for completed trials (for 5 sec, currently running trials: 3).\n",
      "[INFO 12-01 17:58:49] Scheduler: Waiting for completed trials (for 7 sec, currently running trials: 3).\n",
      "[INFO 12-01 17:58:57] Scheduler: Waiting for completed trials (for 11 sec, currently running trials: 3).\n",
      "[INFO 12-01 17:59:08] Scheduler: Waiting for completed trials (for 17 sec, currently running trials: 3).\n",
      "[INFO 12-01 17:59:26] Scheduler: Retrieved COMPLETED trials: 8 - 10.\n",
      "[INFO 12-01 17:59:26] Scheduler: Fetching data for trials: 8 - 10.\n",
      "[INFO 12-01 17:59:27] Scheduler: Running trials [11]...\n",
      "[INFO 12-01 17:59:31] Scheduler: Running trials [12]...\n",
      "[INFO 12-01 17:59:34] Scheduler: Running trials [13]...\n",
      "[INFO 12-01 17:59:35] Scheduler: Generated all trials that can be generated currently. Max parallelism currently reached.\n",
      "[INFO 12-01 17:59:35] Scheduler: Waiting for completed trials (for 1 sec, currently running trials: 3).\n",
      "[INFO 12-01 17:59:36] Scheduler: Waiting for completed trials (for 1.5 sec, currently running trials: 3).\n",
      "[INFO 12-01 17:59:38] Scheduler: Waiting for completed trials (for 2 sec, currently running trials: 3).\n",
      "[INFO 12-01 17:59:40] Scheduler: Waiting for completed trials (for 3 sec, currently running trials: 3).\n",
      "[INFO 12-01 17:59:44] Scheduler: Waiting for completed trials (for 5 sec, currently running trials: 3).\n",
      "[INFO 12-01 17:59:49] Scheduler: Waiting for completed trials (for 7 sec, currently running trials: 3).\n",
      "[INFO 12-01 17:59:56] Scheduler: Waiting for completed trials (for 11 sec, currently running trials: 3).\n",
      "[INFO 12-01 18:00:08] Scheduler: Waiting for completed trials (for 17 sec, currently running trials: 3).\n",
      "[INFO 12-01 18:00:25] Scheduler: Retrieved COMPLETED trials: 11 - 13.\n",
      "[INFO 12-01 18:00:25] Scheduler: Fetching data for trials: 11 - 13.\n",
      "[INFO 12-01 18:00:27] Scheduler: Running trials [14]...\n",
      "[INFO 12-01 18:00:33] Scheduler: Running trials [15]...\n",
      "[INFO 12-01 18:00:39] Scheduler: Running trials [16]...\n",
      "[INFO 12-01 18:00:40] Scheduler: Generated all trials that can be generated currently. Max parallelism currently reached.\n",
      "[INFO 12-01 18:00:40] Scheduler: Waiting for completed trials (for 1 sec, currently running trials: 3).\n",
      "[INFO 12-01 18:00:41] Scheduler: Waiting for completed trials (for 1.5 sec, currently running trials: 3).\n",
      "[INFO 12-01 18:00:43] Scheduler: Waiting for completed trials (for 2 sec, currently running trials: 3).\n"
     ]
    },
    {
     "name": "stderr",
     "output_type": "stream",
     "text": [
      "[INFO 12-01 18:00:45] Scheduler: Waiting for completed trials (for 3 sec, currently running trials: 3).\n",
      "[INFO 12-01 18:00:48] Scheduler: Waiting for completed trials (for 5 sec, currently running trials: 3).\n",
      "[INFO 12-01 18:00:54] Scheduler: Waiting for completed trials (for 7 sec, currently running trials: 3).\n",
      "[INFO 12-01 18:01:01] Scheduler: Waiting for completed trials (for 11 sec, currently running trials: 3).\n",
      "[INFO 12-01 18:01:13] Scheduler: Retrieved COMPLETED trials: [14].\n",
      "[INFO 12-01 18:01:13] Scheduler: Fetching data for trials: [14].\n",
      "[INFO 12-01 18:01:15] Scheduler: Running trials [17]...\n",
      "[INFO 12-01 18:01:17] Scheduler: Generated all trials that can be generated currently. Max parallelism currently reached.\n",
      "[INFO 12-01 18:01:17] Scheduler: Retrieved COMPLETED trials: [15].\n",
      "[INFO 12-01 18:01:17] Scheduler: Fetching data for trials: [15].\n",
      "[INFO 12-01 18:01:20] Scheduler: Running trials [18]...\n",
      "[INFO 12-01 18:01:22] Scheduler: Generated all trials that can be generated currently. Max parallelism currently reached.\n",
      "[INFO 12-01 18:01:22] Scheduler: Retrieved COMPLETED trials: [16].\n",
      "[INFO 12-01 18:01:22] Scheduler: Fetching data for trials: [16].\n",
      "[INFO 12-01 18:01:25] Scheduler: Running trials [19]...\n",
      "[INFO 12-01 18:01:26] Scheduler: Waiting for completed trials (for 1 sec, currently running trials: 3).\n",
      "[INFO 12-01 18:01:27] Scheduler: Waiting for completed trials (for 1.5 sec, currently running trials: 3).\n",
      "[INFO 12-01 18:01:28] Scheduler: Waiting for completed trials (for 2 sec, currently running trials: 3).\n",
      "[INFO 12-01 18:01:31] Scheduler: Waiting for completed trials (for 3 sec, currently running trials: 3).\n",
      "[INFO 12-01 18:01:34] Scheduler: Waiting for completed trials (for 5 sec, currently running trials: 3).\n",
      "[INFO 12-01 18:01:39] Scheduler: Waiting for completed trials (for 7 sec, currently running trials: 3).\n",
      "[INFO 12-01 18:01:47] Scheduler: Waiting for completed trials (for 11 sec, currently running trials: 3).\n",
      "[INFO 12-01 18:01:58] Scheduler: Waiting for completed trials (for 17 sec, currently running trials: 3).\n",
      "[INFO 12-01 18:02:15] Scheduler: Retrieved COMPLETED trials: 17 - 19.\n",
      "[INFO 12-01 18:02:15] Scheduler: Fetching data for trials: 17 - 19.\n"
     ]
    },
    {
     "data": {
      "text/plain": [
       "OptimizationResult()"
      ]
     },
     "execution_count": 7,
     "metadata": {},
     "output_type": "execute_result"
    }
   ],
   "source": [
    "scheduler.run_all_trials()"
   ]
  },
  {
   "cell_type": "code",
   "execution_count": 8,
   "id": "cd6cae8f",
   "metadata": {},
   "outputs": [
    {
     "data": {
      "text/html": [
       "<div>\n",
       "<style scoped>\n",
       "    .dataframe tbody tr th:only-of-type {\n",
       "        vertical-align: middle;\n",
       "    }\n",
       "\n",
       "    .dataframe tbody tr th {\n",
       "        vertical-align: top;\n",
       "    }\n",
       "\n",
       "    .dataframe thead th {\n",
       "        text-align: right;\n",
       "    }\n",
       "</style>\n",
       "<table border=\"1\" class=\"dataframe\">\n",
       "  <thead>\n",
       "    <tr style=\"text-align: right;\">\n",
       "      <th></th>\n",
       "      <th>num_params</th>\n",
       "      <th>val_acc</th>\n",
       "      <th>trial_index</th>\n",
       "      <th>arm_name</th>\n",
       "      <th>hidden_size_1</th>\n",
       "      <th>hidden_size_2</th>\n",
       "      <th>learning_rate</th>\n",
       "      <th>epochs</th>\n",
       "      <th>dropout</th>\n",
       "      <th>batch_size</th>\n",
       "      <th>trial_status</th>\n",
       "      <th>generation_method</th>\n",
       "    </tr>\n",
       "  </thead>\n",
       "  <tbody>\n",
       "    <tr>\n",
       "      <th>0</th>\n",
       "      <td>42668.0</td>\n",
       "      <td>0.9456</td>\n",
       "      <td>0</td>\n",
       "      <td>0_0</td>\n",
       "      <td>51</td>\n",
       "      <td>44</td>\n",
       "      <td>0.000807</td>\n",
       "      <td>4</td>\n",
       "      <td>0.333752</td>\n",
       "      <td>256</td>\n",
       "      <td>COMPLETED</td>\n",
       "      <td>Sobol</td>\n",
       "    </tr>\n",
       "    <tr>\n",
       "      <th>1</th>\n",
       "      <td>18727.0</td>\n",
       "      <td>0.9097</td>\n",
       "      <td>1</td>\n",
       "      <td>1_0</td>\n",
       "      <td>21</td>\n",
       "      <td>73</td>\n",
       "      <td>0.000344</td>\n",
       "      <td>2</td>\n",
       "      <td>0.144332</td>\n",
       "      <td>256</td>\n",
       "      <td>COMPLETED</td>\n",
       "      <td>Sobol</td>\n",
       "    </tr>\n",
       "    <tr>\n",
       "      <th>2</th>\n",
       "      <td>43372.0</td>\n",
       "      <td>0.9363</td>\n",
       "      <td>2</td>\n",
       "      <td>2_0</td>\n",
       "      <td>49</td>\n",
       "      <td>84</td>\n",
       "      <td>0.008737</td>\n",
       "      <td>4</td>\n",
       "      <td>0.122717</td>\n",
       "      <td>32</td>\n",
       "      <td>COMPLETED</td>\n",
       "      <td>Sobol</td>\n",
       "    </tr>\n",
       "    <tr>\n",
       "      <th>3</th>\n",
       "      <td>13428.0</td>\n",
       "      <td>0.8764</td>\n",
       "      <td>3</td>\n",
       "      <td>3_0</td>\n",
       "      <td>16</td>\n",
       "      <td>34</td>\n",
       "      <td>0.000150</td>\n",
       "      <td>3</td>\n",
       "      <td>0.219251</td>\n",
       "      <td>256</td>\n",
       "      <td>COMPLETED</td>\n",
       "      <td>Sobol</td>\n",
       "    </tr>\n",
       "    <tr>\n",
       "      <th>4</th>\n",
       "      <td>78989.0</td>\n",
       "      <td>0.9128</td>\n",
       "      <td>4</td>\n",
       "      <td>4_0</td>\n",
       "      <td>93</td>\n",
       "      <td>59</td>\n",
       "      <td>0.000161</td>\n",
       "      <td>1</td>\n",
       "      <td>0.289764</td>\n",
       "      <td>64</td>\n",
       "      <td>COMPLETED</td>\n",
       "      <td>Sobol</td>\n",
       "    </tr>\n",
       "    <tr>\n",
       "      <th>5</th>\n",
       "      <td>73696.0</td>\n",
       "      <td>0.9555</td>\n",
       "      <td>5</td>\n",
       "      <td>5_0</td>\n",
       "      <td>88</td>\n",
       "      <td>48</td>\n",
       "      <td>0.001802</td>\n",
       "      <td>4</td>\n",
       "      <td>0.417454</td>\n",
       "      <td>256</td>\n",
       "      <td>COMPLETED</td>\n",
       "      <td>MOO</td>\n",
       "    </tr>\n",
       "    <tr>\n",
       "      <th>6</th>\n",
       "      <td>53845.0</td>\n",
       "      <td>0.9654</td>\n",
       "      <td>6</td>\n",
       "      <td>6_0</td>\n",
       "      <td>63</td>\n",
       "      <td>61</td>\n",
       "      <td>0.001074</td>\n",
       "      <td>4</td>\n",
       "      <td>0.129457</td>\n",
       "      <td>256</td>\n",
       "      <td>COMPLETED</td>\n",
       "      <td>MOO</td>\n",
       "    </tr>\n",
       "    <tr>\n",
       "      <th>7</th>\n",
       "      <td>33200.0</td>\n",
       "      <td>0.9393</td>\n",
       "      <td>7</td>\n",
       "      <td>7_0</td>\n",
       "      <td>38</td>\n",
       "      <td>71</td>\n",
       "      <td>0.001288</td>\n",
       "      <td>3</td>\n",
       "      <td>0.345906</td>\n",
       "      <td>256</td>\n",
       "      <td>COMPLETED</td>\n",
       "      <td>MOO</td>\n",
       "    </tr>\n",
       "    <tr>\n",
       "      <th>8</th>\n",
       "      <td>37316.0</td>\n",
       "      <td>0.9631</td>\n",
       "      <td>8</td>\n",
       "      <td>8_0</td>\n",
       "      <td>43</td>\n",
       "      <td>68</td>\n",
       "      <td>0.002171</td>\n",
       "      <td>4</td>\n",
       "      <td>0.203259</td>\n",
       "      <td>256</td>\n",
       "      <td>COMPLETED</td>\n",
       "      <td>MOO</td>\n",
       "    </tr>\n",
       "    <tr>\n",
       "      <th>9</th>\n",
       "      <td>45046.0</td>\n",
       "      <td>0.9633</td>\n",
       "      <td>9</td>\n",
       "      <td>9_0</td>\n",
       "      <td>52</td>\n",
       "      <td>69</td>\n",
       "      <td>0.001611</td>\n",
       "      <td>4</td>\n",
       "      <td>0.201110</td>\n",
       "      <td>128</td>\n",
       "      <td>COMPLETED</td>\n",
       "      <td>MOO</td>\n",
       "    </tr>\n",
       "  </tbody>\n",
       "</table>\n",
       "</div>"
      ],
      "text/plain": [
       "   num_params  val_acc  trial_index arm_name  hidden_size_1  hidden_size_2  \\\n",
       "0     42668.0   0.9456            0      0_0             51             44   \n",
       "1     18727.0   0.9097            1      1_0             21             73   \n",
       "2     43372.0   0.9363            2      2_0             49             84   \n",
       "3     13428.0   0.8764            3      3_0             16             34   \n",
       "4     78989.0   0.9128            4      4_0             93             59   \n",
       "5     73696.0   0.9555            5      5_0             88             48   \n",
       "6     53845.0   0.9654            6      6_0             63             61   \n",
       "7     33200.0   0.9393            7      7_0             38             71   \n",
       "8     37316.0   0.9631            8      8_0             43             68   \n",
       "9     45046.0   0.9633            9      9_0             52             69   \n",
       "\n",
       "   learning_rate  epochs   dropout  batch_size trial_status generation_method  \n",
       "0       0.000807       4  0.333752         256    COMPLETED             Sobol  \n",
       "1       0.000344       2  0.144332         256    COMPLETED             Sobol  \n",
       "2       0.008737       4  0.122717          32    COMPLETED             Sobol  \n",
       "3       0.000150       3  0.219251         256    COMPLETED             Sobol  \n",
       "4       0.000161       1  0.289764          64    COMPLETED             Sobol  \n",
       "5       0.001802       4  0.417454         256    COMPLETED               MOO  \n",
       "6       0.001074       4  0.129457         256    COMPLETED               MOO  \n",
       "7       0.001288       3  0.345906         256    COMPLETED               MOO  \n",
       "8       0.002171       4  0.203259         256    COMPLETED               MOO  \n",
       "9       0.001611       4  0.201110         128    COMPLETED               MOO  "
      ]
     },
     "execution_count": 8,
     "metadata": {},
     "output_type": "execute_result"
    }
   ],
   "source": [
    "df = exp_to_df(experiment)\n",
    "df.head(10)"
   ]
  },
  {
   "cell_type": "code",
   "execution_count": 9,
   "id": "ac7a2191",
   "metadata": {},
   "outputs": [
    {
     "data": {
      "application/vnd.plotly.v1+json": {
       "config": {
        "plotlyServerURL": "https://plot.ly"
       },
       "data": [
        {
         "line": {
          "shape": "hv"
         },
         "marker": {
          "color": "rgba(128,177,211,1)"
         },
         "mode": "lines",
         "type": "scatter",
         "x": [
          0.9660000205039978,
          0.9660000205039978,
          0.9656999707221985,
          0.963100016117096,
          0.957099974155426,
          0.9458000063896179,
          0.94
         ],
         "y": [
          80000,
          54838,
          44376,
          37316,
          30725,
          26360,
          26360
         ]
        },
        {
         "marker": {
          "color": "rgba(128,177,211,1)"
         },
         "mode": "lines",
         "type": "scatter",
         "x": [
          0.9660000205039978,
          0.94
         ],
         "y": [
          80000,
          80000
         ]
        },
        {
         "marker": {
          "color": "rgba(128,177,211,1)"
         },
         "mode": "lines",
         "type": "scatter",
         "x": [
          0.94,
          0.94
         ],
         "y": [
          26360,
          80000
         ]
        },
        {
         "hovertemplate": "%{text}",
         "marker": {
          "color": [
           0,
           5,
           10,
           15,
           20,
           25,
           30,
           35,
           40,
           45,
           50,
           55,
           60,
           65,
           70,
           75,
           80,
           85,
           90,
           95,
           100
          ],
          "colorbar": {
           "ticktext": [
            1,
            "iteration",
            20
           ],
           "tickvals": [
            0,
            50,
            100
           ]
          },
          "colorscale": [
           [
            0,
            "#000004"
           ],
           [
            0.1111111111111111,
            "#180f3d"
           ],
           [
            0.2222222222222222,
            "#440f76"
           ],
           [
            0.3333333333333333,
            "#721f81"
           ],
           [
            0.4444444444444444,
            "#9e2f7f"
           ],
           [
            0.5555555555555556,
            "#cd4071"
           ],
           [
            0.6666666666666666,
            "#f1605d"
           ],
           [
            0.7777777777777778,
            "#fd9668"
           ],
           [
            0.8888888888888888,
            "#feca8d"
           ],
           [
            1,
            "#fcfdbf"
           ]
          ]
         },
         "mode": "markers",
         "name": "Experimental points",
         "text": [
          "Arm name: 0_0",
          "Arm name: 1_0",
          "Arm name: 2_0",
          "Arm name: 3_0",
          "Arm name: 4_0",
          "Arm name: 5_0",
          "Arm name: 6_0",
          "Arm name: 7_0",
          "Arm name: 8_0",
          "Arm name: 9_0",
          "Arm name: 10_0",
          "Arm name: 11_0",
          "Arm name: 12_0",
          "Arm name: 13_0",
          "Arm name: 14_0",
          "Arm name: 15_0",
          "Arm name: 16_0",
          "Arm name: 17_0",
          "Arm name: 18_0",
          "Arm name: 19_0"
         ],
         "type": "scatter",
         "x": [
          0.9455999732017517,
          0.9096999764442444,
          0.9362999796867371,
          0.8763999938964844,
          0.9128000140190125,
          0.9555000066757202,
          0.965399980545044,
          0.939300000667572,
          0.963100016117096,
          0.9632999897003174,
          0.95660001039505,
          0.957099974155426,
          0.9430999755859375,
          0.9639999866485596,
          0.9613999724388123,
          0.9458000063896179,
          0.9613000154495239,
          0.9628000259399414,
          0.9656999707221985,
          0.9660000205039978
         ],
         "y": [
          42668,
          18727,
          43372,
          13428,
          78989,
          73696,
          53845,
          33200,
          37316,
          45046,
          56400,
          30725,
          29645,
          47800,
          45899,
          26360,
          44193,
          43580,
          44376,
          54838
         ]
        },
        {
         "marker": {
          "color": "rgba(128,177,211,1)",
          "size": 25,
          "symbol": "star"
         },
         "mode": "markers",
         "type": "scatter",
         "x": [
          0.94
         ],
         "y": [
          80000
         ]
        }
       ],
       "layout": {
        "showlegend": false,
        "template": {
         "data": {
          "bar": [
           {
            "error_x": {
             "color": "#2a3f5f"
            },
            "error_y": {
             "color": "#2a3f5f"
            },
            "marker": {
             "line": {
              "color": "#E5ECF6",
              "width": 0.5
             },
             "pattern": {
              "fillmode": "overlay",
              "size": 10,
              "solidity": 0.2
             }
            },
            "type": "bar"
           }
          ],
          "barpolar": [
           {
            "marker": {
             "line": {
              "color": "#E5ECF6",
              "width": 0.5
             },
             "pattern": {
              "fillmode": "overlay",
              "size": 10,
              "solidity": 0.2
             }
            },
            "type": "barpolar"
           }
          ],
          "carpet": [
           {
            "aaxis": {
             "endlinecolor": "#2a3f5f",
             "gridcolor": "white",
             "linecolor": "white",
             "minorgridcolor": "white",
             "startlinecolor": "#2a3f5f"
            },
            "baxis": {
             "endlinecolor": "#2a3f5f",
             "gridcolor": "white",
             "linecolor": "white",
             "minorgridcolor": "white",
             "startlinecolor": "#2a3f5f"
            },
            "type": "carpet"
           }
          ],
          "choropleth": [
           {
            "colorbar": {
             "outlinewidth": 0,
             "ticks": ""
            },
            "type": "choropleth"
           }
          ],
          "contour": [
           {
            "colorbar": {
             "outlinewidth": 0,
             "ticks": ""
            },
            "colorscale": [
             [
              0,
              "#0d0887"
             ],
             [
              0.1111111111111111,
              "#46039f"
             ],
             [
              0.2222222222222222,
              "#7201a8"
             ],
             [
              0.3333333333333333,
              "#9c179e"
             ],
             [
              0.4444444444444444,
              "#bd3786"
             ],
             [
              0.5555555555555556,
              "#d8576b"
             ],
             [
              0.6666666666666666,
              "#ed7953"
             ],
             [
              0.7777777777777778,
              "#fb9f3a"
             ],
             [
              0.8888888888888888,
              "#fdca26"
             ],
             [
              1,
              "#f0f921"
             ]
            ],
            "type": "contour"
           }
          ],
          "contourcarpet": [
           {
            "colorbar": {
             "outlinewidth": 0,
             "ticks": ""
            },
            "type": "contourcarpet"
           }
          ],
          "heatmap": [
           {
            "colorbar": {
             "outlinewidth": 0,
             "ticks": ""
            },
            "colorscale": [
             [
              0,
              "#0d0887"
             ],
             [
              0.1111111111111111,
              "#46039f"
             ],
             [
              0.2222222222222222,
              "#7201a8"
             ],
             [
              0.3333333333333333,
              "#9c179e"
             ],
             [
              0.4444444444444444,
              "#bd3786"
             ],
             [
              0.5555555555555556,
              "#d8576b"
             ],
             [
              0.6666666666666666,
              "#ed7953"
             ],
             [
              0.7777777777777778,
              "#fb9f3a"
             ],
             [
              0.8888888888888888,
              "#fdca26"
             ],
             [
              1,
              "#f0f921"
             ]
            ],
            "type": "heatmap"
           }
          ],
          "heatmapgl": [
           {
            "colorbar": {
             "outlinewidth": 0,
             "ticks": ""
            },
            "colorscale": [
             [
              0,
              "#0d0887"
             ],
             [
              0.1111111111111111,
              "#46039f"
             ],
             [
              0.2222222222222222,
              "#7201a8"
             ],
             [
              0.3333333333333333,
              "#9c179e"
             ],
             [
              0.4444444444444444,
              "#bd3786"
             ],
             [
              0.5555555555555556,
              "#d8576b"
             ],
             [
              0.6666666666666666,
              "#ed7953"
             ],
             [
              0.7777777777777778,
              "#fb9f3a"
             ],
             [
              0.8888888888888888,
              "#fdca26"
             ],
             [
              1,
              "#f0f921"
             ]
            ],
            "type": "heatmapgl"
           }
          ],
          "histogram": [
           {
            "marker": {
             "pattern": {
              "fillmode": "overlay",
              "size": 10,
              "solidity": 0.2
             }
            },
            "type": "histogram"
           }
          ],
          "histogram2d": [
           {
            "colorbar": {
             "outlinewidth": 0,
             "ticks": ""
            },
            "colorscale": [
             [
              0,
              "#0d0887"
             ],
             [
              0.1111111111111111,
              "#46039f"
             ],
             [
              0.2222222222222222,
              "#7201a8"
             ],
             [
              0.3333333333333333,
              "#9c179e"
             ],
             [
              0.4444444444444444,
              "#bd3786"
             ],
             [
              0.5555555555555556,
              "#d8576b"
             ],
             [
              0.6666666666666666,
              "#ed7953"
             ],
             [
              0.7777777777777778,
              "#fb9f3a"
             ],
             [
              0.8888888888888888,
              "#fdca26"
             ],
             [
              1,
              "#f0f921"
             ]
            ],
            "type": "histogram2d"
           }
          ],
          "histogram2dcontour": [
           {
            "colorbar": {
             "outlinewidth": 0,
             "ticks": ""
            },
            "colorscale": [
             [
              0,
              "#0d0887"
             ],
             [
              0.1111111111111111,
              "#46039f"
             ],
             [
              0.2222222222222222,
              "#7201a8"
             ],
             [
              0.3333333333333333,
              "#9c179e"
             ],
             [
              0.4444444444444444,
              "#bd3786"
             ],
             [
              0.5555555555555556,
              "#d8576b"
             ],
             [
              0.6666666666666666,
              "#ed7953"
             ],
             [
              0.7777777777777778,
              "#fb9f3a"
             ],
             [
              0.8888888888888888,
              "#fdca26"
             ],
             [
              1,
              "#f0f921"
             ]
            ],
            "type": "histogram2dcontour"
           }
          ],
          "mesh3d": [
           {
            "colorbar": {
             "outlinewidth": 0,
             "ticks": ""
            },
            "type": "mesh3d"
           }
          ],
          "parcoords": [
           {
            "line": {
             "colorbar": {
              "outlinewidth": 0,
              "ticks": ""
             }
            },
            "type": "parcoords"
           }
          ],
          "pie": [
           {
            "automargin": true,
            "type": "pie"
           }
          ],
          "scatter": [
           {
            "fillpattern": {
             "fillmode": "overlay",
             "size": 10,
             "solidity": 0.2
            },
            "type": "scatter"
           }
          ],
          "scatter3d": [
           {
            "line": {
             "colorbar": {
              "outlinewidth": 0,
              "ticks": ""
             }
            },
            "marker": {
             "colorbar": {
              "outlinewidth": 0,
              "ticks": ""
             }
            },
            "type": "scatter3d"
           }
          ],
          "scattercarpet": [
           {
            "marker": {
             "colorbar": {
              "outlinewidth": 0,
              "ticks": ""
             }
            },
            "type": "scattercarpet"
           }
          ],
          "scattergeo": [
           {
            "marker": {
             "colorbar": {
              "outlinewidth": 0,
              "ticks": ""
             }
            },
            "type": "scattergeo"
           }
          ],
          "scattergl": [
           {
            "marker": {
             "colorbar": {
              "outlinewidth": 0,
              "ticks": ""
             }
            },
            "type": "scattergl"
           }
          ],
          "scattermapbox": [
           {
            "marker": {
             "colorbar": {
              "outlinewidth": 0,
              "ticks": ""
             }
            },
            "type": "scattermapbox"
           }
          ],
          "scatterpolar": [
           {
            "marker": {
             "colorbar": {
              "outlinewidth": 0,
              "ticks": ""
             }
            },
            "type": "scatterpolar"
           }
          ],
          "scatterpolargl": [
           {
            "marker": {
             "colorbar": {
              "outlinewidth": 0,
              "ticks": ""
             }
            },
            "type": "scatterpolargl"
           }
          ],
          "scatterternary": [
           {
            "marker": {
             "colorbar": {
              "outlinewidth": 0,
              "ticks": ""
             }
            },
            "type": "scatterternary"
           }
          ],
          "surface": [
           {
            "colorbar": {
             "outlinewidth": 0,
             "ticks": ""
            },
            "colorscale": [
             [
              0,
              "#0d0887"
             ],
             [
              0.1111111111111111,
              "#46039f"
             ],
             [
              0.2222222222222222,
              "#7201a8"
             ],
             [
              0.3333333333333333,
              "#9c179e"
             ],
             [
              0.4444444444444444,
              "#bd3786"
             ],
             [
              0.5555555555555556,
              "#d8576b"
             ],
             [
              0.6666666666666666,
              "#ed7953"
             ],
             [
              0.7777777777777778,
              "#fb9f3a"
             ],
             [
              0.8888888888888888,
              "#fdca26"
             ],
             [
              1,
              "#f0f921"
             ]
            ],
            "type": "surface"
           }
          ],
          "table": [
           {
            "cells": {
             "fill": {
              "color": "#EBF0F8"
             },
             "line": {
              "color": "white"
             }
            },
            "header": {
             "fill": {
              "color": "#C8D4E3"
             },
             "line": {
              "color": "white"
             }
            },
            "type": "table"
           }
          ]
         },
         "layout": {
          "annotationdefaults": {
           "arrowcolor": "#2a3f5f",
           "arrowhead": 0,
           "arrowwidth": 1
          },
          "autotypenumbers": "strict",
          "coloraxis": {
           "colorbar": {
            "outlinewidth": 0,
            "ticks": ""
           }
          },
          "colorscale": {
           "diverging": [
            [
             0,
             "#8e0152"
            ],
            [
             0.1,
             "#c51b7d"
            ],
            [
             0.2,
             "#de77ae"
            ],
            [
             0.3,
             "#f1b6da"
            ],
            [
             0.4,
             "#fde0ef"
            ],
            [
             0.5,
             "#f7f7f7"
            ],
            [
             0.6,
             "#e6f5d0"
            ],
            [
             0.7,
             "#b8e186"
            ],
            [
             0.8,
             "#7fbc41"
            ],
            [
             0.9,
             "#4d9221"
            ],
            [
             1,
             "#276419"
            ]
           ],
           "sequential": [
            [
             0,
             "#0d0887"
            ],
            [
             0.1111111111111111,
             "#46039f"
            ],
            [
             0.2222222222222222,
             "#7201a8"
            ],
            [
             0.3333333333333333,
             "#9c179e"
            ],
            [
             0.4444444444444444,
             "#bd3786"
            ],
            [
             0.5555555555555556,
             "#d8576b"
            ],
            [
             0.6666666666666666,
             "#ed7953"
            ],
            [
             0.7777777777777778,
             "#fb9f3a"
            ],
            [
             0.8888888888888888,
             "#fdca26"
            ],
            [
             1,
             "#f0f921"
            ]
           ],
           "sequentialminus": [
            [
             0,
             "#0d0887"
            ],
            [
             0.1111111111111111,
             "#46039f"
            ],
            [
             0.2222222222222222,
             "#7201a8"
            ],
            [
             0.3333333333333333,
             "#9c179e"
            ],
            [
             0.4444444444444444,
             "#bd3786"
            ],
            [
             0.5555555555555556,
             "#d8576b"
            ],
            [
             0.6666666666666666,
             "#ed7953"
            ],
            [
             0.7777777777777778,
             "#fb9f3a"
            ],
            [
             0.8888888888888888,
             "#fdca26"
            ],
            [
             1,
             "#f0f921"
            ]
           ]
          },
          "colorway": [
           "#636efa",
           "#EF553B",
           "#00cc96",
           "#ab63fa",
           "#FFA15A",
           "#19d3f3",
           "#FF6692",
           "#B6E880",
           "#FF97FF",
           "#FECB52"
          ],
          "font": {
           "color": "#2a3f5f"
          },
          "geo": {
           "bgcolor": "white",
           "lakecolor": "white",
           "landcolor": "#E5ECF6",
           "showlakes": true,
           "showland": true,
           "subunitcolor": "white"
          },
          "hoverlabel": {
           "align": "left"
          },
          "hovermode": "closest",
          "mapbox": {
           "style": "light"
          },
          "paper_bgcolor": "white",
          "plot_bgcolor": "#E5ECF6",
          "polar": {
           "angularaxis": {
            "gridcolor": "white",
            "linecolor": "white",
            "ticks": ""
           },
           "bgcolor": "#E5ECF6",
           "radialaxis": {
            "gridcolor": "white",
            "linecolor": "white",
            "ticks": ""
           }
          },
          "scene": {
           "xaxis": {
            "backgroundcolor": "#E5ECF6",
            "gridcolor": "white",
            "gridwidth": 2,
            "linecolor": "white",
            "showbackground": true,
            "ticks": "",
            "zerolinecolor": "white"
           },
           "yaxis": {
            "backgroundcolor": "#E5ECF6",
            "gridcolor": "white",
            "gridwidth": 2,
            "linecolor": "white",
            "showbackground": true,
            "ticks": "",
            "zerolinecolor": "white"
           },
           "zaxis": {
            "backgroundcolor": "#E5ECF6",
            "gridcolor": "white",
            "gridwidth": 2,
            "linecolor": "white",
            "showbackground": true,
            "ticks": "",
            "zerolinecolor": "white"
           }
          },
          "shapedefaults": {
           "line": {
            "color": "#2a3f5f"
           }
          },
          "ternary": {
           "aaxis": {
            "gridcolor": "white",
            "linecolor": "white",
            "ticks": ""
           },
           "baxis": {
            "gridcolor": "white",
            "linecolor": "white",
            "ticks": ""
           },
           "bgcolor": "#E5ECF6",
           "caxis": {
            "gridcolor": "white",
            "linecolor": "white",
            "ticks": ""
           }
          },
          "title": {
           "x": 0.05
          },
          "xaxis": {
           "automargin": true,
           "gridcolor": "white",
           "linecolor": "white",
           "ticks": "",
           "title": {
            "standoff": 15
           },
           "zerolinecolor": "white",
           "zerolinewidth": 2
          },
          "yaxis": {
           "automargin": true,
           "gridcolor": "white",
           "linecolor": "white",
           "ticks": "",
           "title": {
            "standoff": 15
           },
           "zerolinecolor": "white",
           "zerolinewidth": 2
          }
         }
        },
        "title": {
         "text": "Observed metric values with Pareto frontier"
        },
        "xaxis": {
         "range": [
          0.9373999979496002,
          0.9686000225543976
         ],
         "title": {
          "text": "val_acc"
         }
        },
        "yaxis": {
         "range": [
          20996,
          85364
         ],
         "title": {
          "text": "num_params"
         }
        }
       }
      },
      "text/html": [
       "<div>                            <div id=\"06df7a1b-606f-4203-becf-6815cee953c4\" class=\"plotly-graph-div\" style=\"height:525px; width:100%;\"></div>            <script type=\"text/javascript\">                require([\"plotly\"], function(Plotly) {                    window.PLOTLYENV=window.PLOTLYENV || {};                                    if (document.getElementById(\"06df7a1b-606f-4203-becf-6815cee953c4\")) {                    Plotly.newPlot(                        \"06df7a1b-606f-4203-becf-6815cee953c4\",                        [{\"line\":{\"shape\":\"hv\"},\"marker\":{\"color\":\"rgba(128,177,211,1)\"},\"mode\":\"lines\",\"x\":[0.9660000205039978,0.9660000205039978,0.9656999707221985,0.963100016117096,0.957099974155426,0.9458000063896179,0.94],\"y\":[80000.0,54838.0,44376.0,37316.0,30725.0,26360.0,26360.0],\"type\":\"scatter\"},{\"marker\":{\"color\":\"rgba(128,177,211,1)\"},\"mode\":\"lines\",\"x\":[0.9660000205039978,0.94],\"y\":[80000,80000],\"type\":\"scatter\"},{\"marker\":{\"color\":\"rgba(128,177,211,1)\"},\"mode\":\"lines\",\"x\":[0.94,0.94],\"y\":[26360.0,80000],\"type\":\"scatter\"},{\"hovertemplate\":\"%{text}\",\"marker\":{\"color\":[0.0,5.0,10.0,15.0,20.0,25.0,30.0,35.0,40.0,45.0,50.0,55.0,60.0,65.0,70.0,75.0,80.0,85.0,90.0,95.0,100.0],\"colorbar\":{\"ticktext\":[1,\"iteration\",20],\"tickvals\":[0,50,100]},\"colorscale\":[[0.0,\"#000004\"],[0.1111111111111111,\"#180f3d\"],[0.2222222222222222,\"#440f76\"],[0.3333333333333333,\"#721f81\"],[0.4444444444444444,\"#9e2f7f\"],[0.5555555555555556,\"#cd4071\"],[0.6666666666666666,\"#f1605d\"],[0.7777777777777778,\"#fd9668\"],[0.8888888888888888,\"#feca8d\"],[1.0,\"#fcfdbf\"]]},\"mode\":\"markers\",\"name\":\"Experimental points\",\"text\":[\"Arm name: 0_0\",\"Arm name: 1_0\",\"Arm name: 2_0\",\"Arm name: 3_0\",\"Arm name: 4_0\",\"Arm name: 5_0\",\"Arm name: 6_0\",\"Arm name: 7_0\",\"Arm name: 8_0\",\"Arm name: 9_0\",\"Arm name: 10_0\",\"Arm name: 11_0\",\"Arm name: 12_0\",\"Arm name: 13_0\",\"Arm name: 14_0\",\"Arm name: 15_0\",\"Arm name: 16_0\",\"Arm name: 17_0\",\"Arm name: 18_0\",\"Arm name: 19_0\"],\"x\":[0.9455999732017517,0.9096999764442444,0.9362999796867371,0.8763999938964844,0.9128000140190125,0.9555000066757202,0.965399980545044,0.939300000667572,0.963100016117096,0.9632999897003174,0.95660001039505,0.957099974155426,0.9430999755859375,0.9639999866485596,0.9613999724388123,0.9458000063896179,0.9613000154495239,0.9628000259399414,0.9656999707221985,0.9660000205039978],\"y\":[42668.0,18727.0,43372.0,13428.0,78989.0,73696.0,53845.0,33200.0,37316.0,45046.0,56400.0,30725.0,29645.0,47800.0,45899.0,26360.0,44193.0,43580.0,44376.0,54838.0],\"type\":\"scatter\"},{\"marker\":{\"color\":\"rgba(128,177,211,1)\",\"size\":25,\"symbol\":\"star\"},\"mode\":\"markers\",\"x\":[0.94],\"y\":[80000],\"type\":\"scatter\"}],                        {\"showlegend\":false,\"title\":{\"text\":\"Observed metric values with Pareto frontier\"},\"xaxis\":{\"range\":[0.9373999979496002,0.9686000225543976],\"title\":{\"text\":\"val_acc\"}},\"yaxis\":{\"range\":[20996.0,85364.0],\"title\":{\"text\":\"num_params\"}},\"template\":{\"data\":{\"histogram2dcontour\":[{\"type\":\"histogram2dcontour\",\"colorbar\":{\"outlinewidth\":0,\"ticks\":\"\"},\"colorscale\":[[0.0,\"#0d0887\"],[0.1111111111111111,\"#46039f\"],[0.2222222222222222,\"#7201a8\"],[0.3333333333333333,\"#9c179e\"],[0.4444444444444444,\"#bd3786\"],[0.5555555555555556,\"#d8576b\"],[0.6666666666666666,\"#ed7953\"],[0.7777777777777778,\"#fb9f3a\"],[0.8888888888888888,\"#fdca26\"],[1.0,\"#f0f921\"]]}],\"choropleth\":[{\"type\":\"choropleth\",\"colorbar\":{\"outlinewidth\":0,\"ticks\":\"\"}}],\"histogram2d\":[{\"type\":\"histogram2d\",\"colorbar\":{\"outlinewidth\":0,\"ticks\":\"\"},\"colorscale\":[[0.0,\"#0d0887\"],[0.1111111111111111,\"#46039f\"],[0.2222222222222222,\"#7201a8\"],[0.3333333333333333,\"#9c179e\"],[0.4444444444444444,\"#bd3786\"],[0.5555555555555556,\"#d8576b\"],[0.6666666666666666,\"#ed7953\"],[0.7777777777777778,\"#fb9f3a\"],[0.8888888888888888,\"#fdca26\"],[1.0,\"#f0f921\"]]}],\"heatmap\":[{\"type\":\"heatmap\",\"colorbar\":{\"outlinewidth\":0,\"ticks\":\"\"},\"colorscale\":[[0.0,\"#0d0887\"],[0.1111111111111111,\"#46039f\"],[0.2222222222222222,\"#7201a8\"],[0.3333333333333333,\"#9c179e\"],[0.4444444444444444,\"#bd3786\"],[0.5555555555555556,\"#d8576b\"],[0.6666666666666666,\"#ed7953\"],[0.7777777777777778,\"#fb9f3a\"],[0.8888888888888888,\"#fdca26\"],[1.0,\"#f0f921\"]]}],\"heatmapgl\":[{\"type\":\"heatmapgl\",\"colorbar\":{\"outlinewidth\":0,\"ticks\":\"\"},\"colorscale\":[[0.0,\"#0d0887\"],[0.1111111111111111,\"#46039f\"],[0.2222222222222222,\"#7201a8\"],[0.3333333333333333,\"#9c179e\"],[0.4444444444444444,\"#bd3786\"],[0.5555555555555556,\"#d8576b\"],[0.6666666666666666,\"#ed7953\"],[0.7777777777777778,\"#fb9f3a\"],[0.8888888888888888,\"#fdca26\"],[1.0,\"#f0f921\"]]}],\"contourcarpet\":[{\"type\":\"contourcarpet\",\"colorbar\":{\"outlinewidth\":0,\"ticks\":\"\"}}],\"contour\":[{\"type\":\"contour\",\"colorbar\":{\"outlinewidth\":0,\"ticks\":\"\"},\"colorscale\":[[0.0,\"#0d0887\"],[0.1111111111111111,\"#46039f\"],[0.2222222222222222,\"#7201a8\"],[0.3333333333333333,\"#9c179e\"],[0.4444444444444444,\"#bd3786\"],[0.5555555555555556,\"#d8576b\"],[0.6666666666666666,\"#ed7953\"],[0.7777777777777778,\"#fb9f3a\"],[0.8888888888888888,\"#fdca26\"],[1.0,\"#f0f921\"]]}],\"surface\":[{\"type\":\"surface\",\"colorbar\":{\"outlinewidth\":0,\"ticks\":\"\"},\"colorscale\":[[0.0,\"#0d0887\"],[0.1111111111111111,\"#46039f\"],[0.2222222222222222,\"#7201a8\"],[0.3333333333333333,\"#9c179e\"],[0.4444444444444444,\"#bd3786\"],[0.5555555555555556,\"#d8576b\"],[0.6666666666666666,\"#ed7953\"],[0.7777777777777778,\"#fb9f3a\"],[0.8888888888888888,\"#fdca26\"],[1.0,\"#f0f921\"]]}],\"mesh3d\":[{\"type\":\"mesh3d\",\"colorbar\":{\"outlinewidth\":0,\"ticks\":\"\"}}],\"scatter\":[{\"fillpattern\":{\"fillmode\":\"overlay\",\"size\":10,\"solidity\":0.2},\"type\":\"scatter\"}],\"parcoords\":[{\"type\":\"parcoords\",\"line\":{\"colorbar\":{\"outlinewidth\":0,\"ticks\":\"\"}}}],\"scatterpolargl\":[{\"type\":\"scatterpolargl\",\"marker\":{\"colorbar\":{\"outlinewidth\":0,\"ticks\":\"\"}}}],\"bar\":[{\"error_x\":{\"color\":\"#2a3f5f\"},\"error_y\":{\"color\":\"#2a3f5f\"},\"marker\":{\"line\":{\"color\":\"#E5ECF6\",\"width\":0.5},\"pattern\":{\"fillmode\":\"overlay\",\"size\":10,\"solidity\":0.2}},\"type\":\"bar\"}],\"scattergeo\":[{\"type\":\"scattergeo\",\"marker\":{\"colorbar\":{\"outlinewidth\":0,\"ticks\":\"\"}}}],\"scatterpolar\":[{\"type\":\"scatterpolar\",\"marker\":{\"colorbar\":{\"outlinewidth\":0,\"ticks\":\"\"}}}],\"histogram\":[{\"marker\":{\"pattern\":{\"fillmode\":\"overlay\",\"size\":10,\"solidity\":0.2}},\"type\":\"histogram\"}],\"scattergl\":[{\"type\":\"scattergl\",\"marker\":{\"colorbar\":{\"outlinewidth\":0,\"ticks\":\"\"}}}],\"scatter3d\":[{\"type\":\"scatter3d\",\"line\":{\"colorbar\":{\"outlinewidth\":0,\"ticks\":\"\"}},\"marker\":{\"colorbar\":{\"outlinewidth\":0,\"ticks\":\"\"}}}],\"scattermapbox\":[{\"type\":\"scattermapbox\",\"marker\":{\"colorbar\":{\"outlinewidth\":0,\"ticks\":\"\"}}}],\"scatterternary\":[{\"type\":\"scatterternary\",\"marker\":{\"colorbar\":{\"outlinewidth\":0,\"ticks\":\"\"}}}],\"scattercarpet\":[{\"type\":\"scattercarpet\",\"marker\":{\"colorbar\":{\"outlinewidth\":0,\"ticks\":\"\"}}}],\"carpet\":[{\"aaxis\":{\"endlinecolor\":\"#2a3f5f\",\"gridcolor\":\"white\",\"linecolor\":\"white\",\"minorgridcolor\":\"white\",\"startlinecolor\":\"#2a3f5f\"},\"baxis\":{\"endlinecolor\":\"#2a3f5f\",\"gridcolor\":\"white\",\"linecolor\":\"white\",\"minorgridcolor\":\"white\",\"startlinecolor\":\"#2a3f5f\"},\"type\":\"carpet\"}],\"table\":[{\"cells\":{\"fill\":{\"color\":\"#EBF0F8\"},\"line\":{\"color\":\"white\"}},\"header\":{\"fill\":{\"color\":\"#C8D4E3\"},\"line\":{\"color\":\"white\"}},\"type\":\"table\"}],\"barpolar\":[{\"marker\":{\"line\":{\"color\":\"#E5ECF6\",\"width\":0.5},\"pattern\":{\"fillmode\":\"overlay\",\"size\":10,\"solidity\":0.2}},\"type\":\"barpolar\"}],\"pie\":[{\"automargin\":true,\"type\":\"pie\"}]},\"layout\":{\"autotypenumbers\":\"strict\",\"colorway\":[\"#636efa\",\"#EF553B\",\"#00cc96\",\"#ab63fa\",\"#FFA15A\",\"#19d3f3\",\"#FF6692\",\"#B6E880\",\"#FF97FF\",\"#FECB52\"],\"font\":{\"color\":\"#2a3f5f\"},\"hovermode\":\"closest\",\"hoverlabel\":{\"align\":\"left\"},\"paper_bgcolor\":\"white\",\"plot_bgcolor\":\"#E5ECF6\",\"polar\":{\"bgcolor\":\"#E5ECF6\",\"angularaxis\":{\"gridcolor\":\"white\",\"linecolor\":\"white\",\"ticks\":\"\"},\"radialaxis\":{\"gridcolor\":\"white\",\"linecolor\":\"white\",\"ticks\":\"\"}},\"ternary\":{\"bgcolor\":\"#E5ECF6\",\"aaxis\":{\"gridcolor\":\"white\",\"linecolor\":\"white\",\"ticks\":\"\"},\"baxis\":{\"gridcolor\":\"white\",\"linecolor\":\"white\",\"ticks\":\"\"},\"caxis\":{\"gridcolor\":\"white\",\"linecolor\":\"white\",\"ticks\":\"\"}},\"coloraxis\":{\"colorbar\":{\"outlinewidth\":0,\"ticks\":\"\"}},\"colorscale\":{\"sequential\":[[0.0,\"#0d0887\"],[0.1111111111111111,\"#46039f\"],[0.2222222222222222,\"#7201a8\"],[0.3333333333333333,\"#9c179e\"],[0.4444444444444444,\"#bd3786\"],[0.5555555555555556,\"#d8576b\"],[0.6666666666666666,\"#ed7953\"],[0.7777777777777778,\"#fb9f3a\"],[0.8888888888888888,\"#fdca26\"],[1.0,\"#f0f921\"]],\"sequentialminus\":[[0.0,\"#0d0887\"],[0.1111111111111111,\"#46039f\"],[0.2222222222222222,\"#7201a8\"],[0.3333333333333333,\"#9c179e\"],[0.4444444444444444,\"#bd3786\"],[0.5555555555555556,\"#d8576b\"],[0.6666666666666666,\"#ed7953\"],[0.7777777777777778,\"#fb9f3a\"],[0.8888888888888888,\"#fdca26\"],[1.0,\"#f0f921\"]],\"diverging\":[[0,\"#8e0152\"],[0.1,\"#c51b7d\"],[0.2,\"#de77ae\"],[0.3,\"#f1b6da\"],[0.4,\"#fde0ef\"],[0.5,\"#f7f7f7\"],[0.6,\"#e6f5d0\"],[0.7,\"#b8e186\"],[0.8,\"#7fbc41\"],[0.9,\"#4d9221\"],[1,\"#276419\"]]},\"xaxis\":{\"gridcolor\":\"white\",\"linecolor\":\"white\",\"ticks\":\"\",\"title\":{\"standoff\":15},\"zerolinecolor\":\"white\",\"automargin\":true,\"zerolinewidth\":2},\"yaxis\":{\"gridcolor\":\"white\",\"linecolor\":\"white\",\"ticks\":\"\",\"title\":{\"standoff\":15},\"zerolinecolor\":\"white\",\"automargin\":true,\"zerolinewidth\":2},\"scene\":{\"xaxis\":{\"backgroundcolor\":\"#E5ECF6\",\"gridcolor\":\"white\",\"linecolor\":\"white\",\"showbackground\":true,\"ticks\":\"\",\"zerolinecolor\":\"white\",\"gridwidth\":2},\"yaxis\":{\"backgroundcolor\":\"#E5ECF6\",\"gridcolor\":\"white\",\"linecolor\":\"white\",\"showbackground\":true,\"ticks\":\"\",\"zerolinecolor\":\"white\",\"gridwidth\":2},\"zaxis\":{\"backgroundcolor\":\"#E5ECF6\",\"gridcolor\":\"white\",\"linecolor\":\"white\",\"showbackground\":true,\"ticks\":\"\",\"zerolinecolor\":\"white\",\"gridwidth\":2}},\"shapedefaults\":{\"line\":{\"color\":\"#2a3f5f\"}},\"annotationdefaults\":{\"arrowcolor\":\"#2a3f5f\",\"arrowhead\":0,\"arrowwidth\":1},\"geo\":{\"bgcolor\":\"white\",\"landcolor\":\"#E5ECF6\",\"subunitcolor\":\"white\",\"showland\":true,\"showlakes\":true,\"lakecolor\":\"white\"},\"title\":{\"x\":0.05},\"mapbox\":{\"style\":\"light\"}}}},                        {\"responsive\": true}                    ).then(function(){\n",
       "                            \n",
       "var gd = document.getElementById('06df7a1b-606f-4203-becf-6815cee953c4');\n",
       "var x = new MutationObserver(function (mutations, observer) {{\n",
       "        var display = window.getComputedStyle(gd).display;\n",
       "        if (!display || display === 'none') {{\n",
       "            console.log([gd, 'removed!']);\n",
       "            Plotly.purge(gd);\n",
       "            observer.disconnect();\n",
       "        }}\n",
       "}});\n",
       "\n",
       "// Listen for the removal of the full notebook cells\n",
       "var notebookContainer = gd.closest('#notebook-container');\n",
       "if (notebookContainer) {{\n",
       "    x.observe(notebookContainer, {childList: true});\n",
       "}}\n",
       "\n",
       "// Listen for the clearing of the current output cell\n",
       "var outputEl = gd.closest('.output');\n",
       "if (outputEl) {{\n",
       "    x.observe(outputEl, {childList: true});\n",
       "}}\n",
       "\n",
       "                        })                };                });            </script>        </div>"
      ]
     },
     "metadata": {},
     "output_type": "display_data"
    }
   ],
   "source": [
    "from ax.service.utils.report_utils import _pareto_frontier_scatter_2d_plotly\n",
    "\n",
    "_pareto_frontier_scatter_2d_plotly(experiment)"
   ]
  },
  {
   "cell_type": "code",
   "execution_count": 10,
   "id": "a1cded64",
   "metadata": {},
   "outputs": [
    {
     "data": {
      "application/vnd.plotly.v1+json": {
       "config": {
        "plotlyServerURL": "https://plot.ly"
       },
       "data": [
        {
         "hoverinfo": "none",
         "line": {
          "color": "black",
          "dash": "dot",
          "width": 2
         },
         "mode": "lines",
         "showlegend": false,
         "type": "scatter",
         "visible": true,
         "x": [
          6991.768534210013,
          110772.89023231706
         ],
         "y": [
          6991.768534210013,
          110772.89023231706
         ]
        },
        {
         "error_x": {
          "array": [
           null,
           null,
           null,
           null,
           null,
           null,
           null,
           null,
           null,
           null,
           null,
           null,
           null,
           null,
           null,
           null,
           null,
           null,
           null,
           null,
           null,
           null,
           null,
           null,
           null,
           null,
           null,
           null,
           null,
           null,
           null,
           null,
           null,
           null,
           null,
           null,
           null,
           null,
           null,
           null,
           null,
           null,
           null,
           null,
           null,
           null
          ],
          "color": "rgba(128,177,211,0.4)",
          "type": "data"
         },
         "error_y": {
          "array": [
           9026.299626827767,
           7602.724197605359,
           5534.999385569389,
           1884.4577965172714,
           4974.194058047844,
           4806.782316242688,
           5064.660982056813,
           6927.5732309069135,
           1760.7467230935215,
           4652.182177505819,
           2880.5273272791196,
           1238.369929656849,
           2462.964032150344,
           4239.84086610224,
           1461.1656505792112,
           2741.5390579771333,
           1686.4667237789563,
           1779.7713607737426,
           2294.4705378707604,
           1899.1815803481786,
           508.13894124362236,
           3009.006550616158,
           1618.77804603336,
           1436.2421549963626,
           1777.3334488204266,
           535.816131417654,
           997.530115867318,
           1155.9087286821548,
           799.1946122451105,
           1700.4288472462033,
           2070.5188893515024,
           683.6177127017519,
           747.6529412469938,
           933.9373719838268,
           3843.931251692449,
           1229.8787326746085,
           1291.6654145587659,
           1412.2346492687839,
           2592.098202840771,
           1729.3348230665435,
           1685.2509210768071,
           4313.902370379665,
           1047.743699471717,
           1862.7868567967903,
           1867.051792423005,
           1135.425215510561
          ],
          "color": "rgba(128,177,211,0.4)",
          "type": "data"
         },
         "hoverinfo": "text",
         "marker": {
          "color": "rgba(128,177,211,1)"
         },
         "mode": "markers",
         "name": "In-sample",
         "showlegend": true,
         "text": [
          "<b>Arm 0_0</b><br><br>Actual Outcome: 21284.0 [nan, nan]<br>Predicted Outcome: 24126.529 [15100.230, 33152.829]<br><br><em>Parameterization:</em><br>hidden_size_1: 26<br>hidden_size_2: 25<br>learning_rate: 0.0001434767824236491<br>epochs: 2<br>dropout: 0.33112940192222595<br>batch_size: 256",
          "<b>Arm 1_0</b><br><br>Actual Outcome: 74901.0 [nan, nan]<br>Predicted Outcome: 72523.01 [64920.285, 80125.734]<br><br><em>Parameterization:</em><br>hidden_size_1: 87<br>hidden_size_2: 69<br>learning_rate: 0.0029053224531863106<br>epochs: 3<br>dropout: 0.3739301706664264<br>batch_size: 256",
          "<b>Arm 2_0</b><br><br>Actual Outcome: 66808.0 [nan, nan]<br>Predicted Outcome: 66604.272 [61069.272, 72139.271]<br><br><em>Parameterization:</em><br>hidden_size_1: 76<br>hidden_size_2: 84<br>learning_rate: 0.002605222277356922<br>epochs: 2<br>dropout: 0.2766162846237421<br>batch_size: 32",
          "<b>Arm 3_0</b><br><br>Actual Outcome: 31490.0 [nan, nan]<br>Predicted Outcome: 31343.095 [29458.637, 33227.553]<br><br><em>Parameterization:</em><br>hidden_size_1: 35<br>hidden_size_2: 90<br>learning_rate: 0.0017176423492511292<br>epochs: 1<br>dropout: 0.08004654245451093<br>batch_size: 128",
          "<b>Arm 4_0</b><br><br>Actual Outcome: 22864.0 [nan, nan]<br>Predicted Outcome: 23530.683 [18556.489, 28504.877]<br><br><em>Parameterization:</em><br>hidden_size_1: 28<br>hidden_size_2: 24<br>learning_rate: 0.0023618357341640183<br>epochs: 1<br>dropout: 0.05532363662496209<br>batch_size: 32",
          "<b>Arm 5_0</b><br><br>Actual Outcome: 103678.0 [nan, nan]<br>Predicted Outcome: 100436.352 [95629.570, 105243.134]<br><br><em>Parameterization:</em><br>hidden_size_1: 127<br>hidden_size_2: 30<br>learning_rate: 0.000211731167925127<br>epochs: 3<br>dropout: 0.09538744669407606<br>batch_size: 64",
          "<b>Arm 6_0</b><br><br>Actual Outcome: 101240.0 [nan, nan]<br>Predicted Outcome: 100990.906 [95926.245, 106055.567]<br><br><em>Parameterization:</em><br>hidden_size_1: 125<br>hidden_size_2: 24<br>learning_rate: 0.00018640865242917963<br>epochs: 4<br>dropout: 0.09939862927421927<br>batch_size: 32",
          "<b>Arm 7_0</b><br><br>Actual Outcome: 17444.0 [nan, nan]<br>Predicted Outcome: 18636.665 [11709.092, 25564.239]<br><br><em>Parameterization:</em><br>hidden_size_1: 18<br>hidden_size_2: 119<br>learning_rate: 0.0009363742269194095<br>epochs: 2<br>dropout: 0.31237895181402564<br>batch_size: 128",
          "<b>Arm 8_0</b><br><br>Actual Outcome: 47172.0 [nan, nan]<br>Predicted Outcome: 47420.892 [45660.146, 49181.639]<br><br><em>Parameterization:</em><br>hidden_size_1: 58<br>hidden_size_2: 25<br>learning_rate: 0.004350933426636407<br>epochs: 2<br>dropout: 0.14793169079348445<br>batch_size: 32",
          "<b>Arm 9_0</b><br><br>Actual Outcome: 20837.0 [nan, nan]<br>Predicted Outcome: 20583.753 [15931.571, 25235.935]<br><br><em>Parameterization:</em><br>hidden_size_1: 23<br>hidden_size_2: 85<br>learning_rate: 0.002628503936986519<br>epochs: 1<br>dropout: 0.06107937926709633<br>batch_size: 64",
          "<b>Arm 10_0</b><br><br>Actual Outcome: 31032.0 [nan, nan]<br>Predicted Outcome: 31338.522 [28457.995, 34219.050]<br><br><em>Parameterization:</em><br>hidden_size_1: 33<br>hidden_size_2: 120<br>learning_rate: 0.004245949864296547<br>epochs: 1<br>dropout: 0.19452765426241056<br>batch_size: 128",
          "<b>Arm 11_0</b><br><br>Actual Outcome: 44009.0 [nan, nan]<br>Predicted Outcome: 43883.077 [42644.707, 45121.447]<br><br><em>Parameterization:</em><br>hidden_size_1: 53<br>hidden_size_2: 39<br>learning_rate: 0.005225384637038674<br>epochs: 2<br>dropout: 0.09008009892761282<br>batch_size: 64",
          "<b>Arm 12_0</b><br><br>Actual Outcome: 40496.0 [nan, nan]<br>Predicted Outcome: 40306.009 [37843.045, 42768.973]<br><br><em>Parameterization:</em><br>hidden_size_1: 43<br>hidden_size_2: 128<br>learning_rate: 0.0017926064838767813<br>epochs: 1<br>dropout: 0.09660252828225978<br>batch_size: 256",
          "<b>Arm 13_0</b><br><br>Actual Outcome: 38618.0 [nan, nan]<br>Predicted Outcome: 39077.124 [34837.283, 43316.965]<br><br><em>Parameterization:</em><br>hidden_size_1: 48<br>hidden_size_2: 17<br>learning_rate: 0.01<br>epochs: 1<br>dropout: 0.23951458804359507<br>batch_size: 32",
          "<b>Arm 14_0</b><br><br>Actual Outcome: 35372.0 [nan, nan]<br>Predicted Outcome: 35136.035 [33674.869, 36597.200]<br><br><em>Parameterization:</em><br>hidden_size_1: 42<br>hidden_size_2: 47<br>learning_rate: 0.006772133699961381<br>epochs: 2<br>dropout: 0.08510201078722962<br>batch_size: 256",
          "<b>Arm 15_0</b><br><br>Actual Outcome: 32760.0 [nan, nan]<br>Predicted Outcome: 31706.327 [28964.788, 34447.866]<br><br><em>Parameterization:</em><br>hidden_size_1: 40<br>hidden_size_2: 28<br>learning_rate: 0.0022820468258950206<br>epochs: 3<br>dropout: 0.11004397150643774<br>batch_size: 32",
          "<b>Arm 16_0</b><br><br>Actual Outcome: 44009.0 [nan, nan]<br>Predicted Outcome: 44111.487 [42425.020, 45797.954]<br><br><em>Parameterization:</em><br>hidden_size_1: 53<br>hidden_size_2: 39<br>learning_rate: 0.002837659183241426<br>epochs: 2<br>dropout: 0.04027651585477238<br>batch_size: 32",
          "<b>Arm 17_0</b><br><br>Actual Outcome: 27566.0 [nan, nan]<br>Predicted Outcome: 27044.574 [25264.802, 28824.345]<br><br><em>Parameterization:</em><br>hidden_size_1: 32<br>hidden_size_2: 59<br>learning_rate: 0.004363761288111755<br>epochs: 3<br>dropout: 0.16909138489485928<br>batch_size: 128",
          "<b>Arm 18_0</b><br><br>Actual Outcome: 34643.0 [nan, nan]<br>Predicted Outcome: 35084.068 [32789.597, 37378.538]<br><br><em>Parameterization:</em><br>hidden_size_1: 41<br>hidden_size_2: 49<br>learning_rate: 0.002729593599876776<br>epochs: 1<br>dropout: 0.0<br>batch_size: 256",
          "<b>Arm 19_0</b><br><br>Actual Outcome: 46497.0 [nan, nan]<br>Predicted Outcome: 46365.596 [44466.414, 48264.778]<br><br><em>Parameterization:</em><br>hidden_size_1: 57<br>hidden_size_2: 27<br>learning_rate: 0.002784531341964584<br>epochs: 3<br>dropout: 0.10870606861702152<br>batch_size: 64",
          "<b>Arm 20_0</b><br><br>Actual Outcome: 39928.0 [nan, nan]<br>Predicted Outcome: 39950.524 [39442.385, 40458.663]<br><br><em>Parameterization:</em><br>hidden_size_1: 46<br>hidden_size_2: 69<br>learning_rate: 0.00350793125863134<br>epochs: 3<br>dropout: 0.16452356200290869<br>batch_size: 256",
          "<b>Arm 21_0</b><br><br>Actual Outcome: 25534.0 [nan, nan]<br>Predicted Outcome: 26208.788 [23199.781, 29217.794]<br><br><em>Parameterization:</em><br>hidden_size_1: 31<br>hidden_size_2: 30<br>learning_rate: 0.006155673760960595<br>epochs: 3<br>dropout: 0.05595837260580259<br>batch_size: 128",
          "<b>Arm 22_0</b><br><br>Actual Outcome: 39698.0 [nan, nan]<br>Predicted Outcome: 40183.089 [38564.311, 41801.867]<br><br><em>Parameterization:</em><br>hidden_size_1: 47<br>hidden_size_2: 50<br>learning_rate: 0.007225891127178984<br>epochs: 3<br>dropout: 0.23180749133005782<br>batch_size: 256",
          "<b>Arm 23_0</b><br><br>Actual Outcome: 45232.0 [nan, nan]<br>Predicted Outcome: 45251.436 [43815.194, 46687.679]<br><br><em>Parameterization:</em><br>hidden_size_1: 52<br>hidden_size_2: 72<br>learning_rate: 0.002798179138056188<br>epochs: 2<br>dropout: 0.14503056080703147<br>batch_size: 256",
          "<b>Arm 24_0</b><br><br>Actual Outcome: 29785.0 [nan, nan]<br>Predicted Outcome: 30022.723 [28245.389, 31800.056]<br><br><em>Parameterization:</em><br>hidden_size_1: 33<br>hidden_size_2: 91<br>learning_rate: 0.0033679541540761024<br>epochs: 3<br>dropout: 0.09945665618720774<br>batch_size: 256",
          "<b>Arm 25_0</b><br><br>Actual Outcome: 46880.0 [nan, nan]<br>Predicted Outcome: 46837.346 [46301.530, 47373.163]<br><br><em>Parameterization:</em><br>hidden_size_1: 54<br>hidden_size_2: 71<br>learning_rate: 0.002772015264563267<br>epochs: 3<br>dropout: 0.16672305109441052<br>batch_size: 128",
          "<b>Arm 26_0</b><br><br>Actual Outcome: 35892.0 [nan, nan]<br>Predicted Outcome: 35689.683 [34692.153, 36687.213]<br><br><em>Parameterization:</em><br>hidden_size_1: 42<br>hidden_size_2: 57<br>learning_rate: 0.0024315337698167833<br>epochs: 3<br>dropout: 0.19474503551564407<br>batch_size: 256",
          "<b>Arm 27_0</b><br><br>Actual Outcome: 41552.0 [nan, nan]<br>Predicted Outcome: 41600.741 [40444.833, 42756.650]<br><br><em>Parameterization:</em><br>hidden_size_1: 46<br>hidden_size_2: 98<br>learning_rate: 0.006049018833553533<br>epochs: 3<br>dropout: 0.13709920202400355<br>batch_size: 256",
          "<b>Arm 28_0</b><br><br>Actual Outcome: 42149.0 [nan, nan]<br>Predicted Outcome: 42056.814 [41257.619, 42856.008]<br><br><em>Parameterization:</em><br>hidden_size_1: 47<br>hidden_size_2: 93<br>learning_rate: 0.0018303290821920122<br>epochs: 3<br>dropout: 0.08922284620729605<br>batch_size: 128",
          "<b>Arm 29_0</b><br><br>Actual Outcome: 52990.0 [nan, nan]<br>Predicted Outcome: 52541.72 [50841.291, 54242.149]<br><br><em>Parameterization:</em><br>hidden_size_1: 60<br>hidden_size_2: 85<br>learning_rate: 0.00539443174947917<br>epochs: 3<br>dropout: 0.12865895369245992<br>batch_size: 128",
          "<b>Arm 30_0</b><br><br>Actual Outcome: 23732.0 [nan, nan]<br>Predicted Outcome: 23209.075 [21138.557, 25279.594]<br><br><em>Parameterization:</em><br>hidden_size_1: 26<br>hidden_size_2: 93<br>learning_rate: 0.0010940926056826755<br>epochs: 4<br>dropout: 0.06093513841124719<br>batch_size: 128",
          "<b>Arm 31_0</b><br><br>Actual Outcome: 44240.0 [nan, nan]<br>Predicted Outcome: 44145.899 [43462.281, 44829.517]<br><br><em>Parameterization:</em><br>hidden_size_1: 50<br>hidden_size_2: 84<br>learning_rate: 0.0019538650031968707<br>epochs: 3<br>dropout: 0.17482033724912127<br>batch_size: 128",
          "<b>Arm 32_0</b><br><br>Actual Outcome: 36173.0 [nan, nan]<br>Predicted Outcome: 36325.499 [35577.846, 37073.152]<br><br><em>Parameterization:</em><br>hidden_size_1: 41<br>hidden_size_2: 79<br>learning_rate: 0.002648680531166817<br>epochs: 3<br>dropout: 0.12367523348987207<br>batch_size: 128",
          "<b>Arm 33_0</b><br><br>Actual Outcome: 35410.0 [nan, nan]<br>Predicted Outcome: 35458.174 [34524.237, 36392.112]<br><br><em>Parameterization:</em><br>hidden_size_1: 40<br>hidden_size_2: 81<br>learning_rate: 0.0009979208885641613<br>epochs: 4<br>dropout: 0.11526085100574014<br>batch_size: 64",
          "<b>Arm 34_0</b><br><br>Actual Outcome: 18710.0 [nan, nan]<br>Predicted Outcome: 19777.199 [15933.268, 23621.130]<br><br><em>Parameterization:</em><br>hidden_size_1: 20<br>hidden_size_2: 101<br>learning_rate: 0.002038626116246448<br>epochs: 4<br>dropout: 0.10913020356854687<br>batch_size: 128",
          "<b>Arm 35_0</b><br><br>Actual Outcome: 51940.0 [nan, nan]<br>Predicted Outcome: 52590.094 [51360.215, 53819.972]<br><br><em>Parameterization:</em><br>hidden_size_1: 60<br>hidden_size_2: 70<br>learning_rate: 0.001590451581970858<br>epochs: 3<br>dropout: 0.13605753732320264<br>batch_size: 128",
          "<b>Arm 36_0</b><br><br>Actual Outcome: 44120.0 [nan, nan]<br>Predicted Outcome: 44168.051 [42876.386, 45459.717]<br><br><em>Parameterization:</em><br>hidden_size_1: 50<br>hidden_size_2: 82<br>learning_rate: 0.0010268320765114054<br>epochs: 4<br>dropout: 0.10210561054102789<br>batch_size: 128",
          "<b>Arm 37_0</b><br><br>Actual Outcome: 27912.0 [nan, nan]<br>Predicted Outcome: 27969.876 [26557.641, 29382.111]<br><br><em>Parameterization:</em><br>hidden_size_1: 31<br>hidden_size_2: 88<br>learning_rate: 0.0005489248238608655<br>epochs: 4<br>dropout: 0.041998030049184086<br>batch_size: 32",
          "<b>Arm 38_0</b><br><br>Actual Outcome: 44639.0 [nan, nan]<br>Predicted Outcome: 45345.454 [42753.355, 47937.552]<br><br><em>Parameterization:</em><br>hidden_size_1: 53<br>hidden_size_2: 49<br>learning_rate: 0.0004259949381473743<br>epochs: 4<br>dropout: 0.12375317521500247<br>batch_size: 32",
          "<b>Arm 39_0</b><br><br>Actual Outcome: 31628.0 [nan, nan]<br>Predicted Outcome: 31709.041 [29979.706, 33438.375]<br><br><em>Parameterization:</em><br>hidden_size_1: 34<br>hidden_size_2: 113<br>learning_rate: 0.0012848059245821174<br>epochs: 4<br>dropout: 0.159982570212143<br>batch_size: 128",
          "<b>Arm 40_0</b><br><br>Actual Outcome: 41220.0 [nan, nan]<br>Predicted Outcome: 40793.796 [39108.546, 42479.047]<br><br><em>Parameterization:</em><br>hidden_size_1: 45<br>hidden_size_2: 108<br>learning_rate: 0.00044147059335426423<br>epochs: 4<br>dropout: 0.057307727797324064<br>batch_size: 64",
          "<b>Arm 41_0</b><br><br>Actual Outcome: 19712.0 [nan, nan]<br>Predicted Outcome: 20061.896 [15747.994, 24375.799]<br><br><em>Parameterization:</em><br>hidden_size_1: 22<br>hidden_size_2: 77<br>learning_rate: 0.0003989276365812258<br>epochs: 4<br>dropout: 0.1432906720190824<br>batch_size: 32",
          "<b>Arm 42_0</b><br><br>Actual Outcome: 36568.0 [nan, nan]<br>Predicted Outcome: 36708.259 [35660.516, 37756.003]<br><br><em>Parameterization:</em><br>hidden_size_1: 42<br>hidden_size_2: 70<br>learning_rate: 0.0005856646049078795<br>epochs: 4<br>dropout: 0.0<br>batch_size: 32",
          "<b>Arm 43_0</b><br><br>Actual Outcome: 31950.0 [nan, nan]<br>Predicted Outcome: 31877.117 [30014.330, 33739.904]<br><br><em>Parameterization:</em><br>hidden_size_1: 36<br>hidden_size_2: 81<br>learning_rate: 0.0005137184947408184<br>epochs: 4<br>dropout: 0.16660182769823986<br>batch_size: 32",
          "<b>Arm 44_0</b><br><br>Actual Outcome: 31408.0 [nan, nan]<br>Predicted Outcome: 31472.91 [29605.858, 33339.961]<br><br><em>Parameterization:</em><br>hidden_size_1: 34<br>hidden_size_2: 108<br>learning_rate: 0.001265315859699169<br>epochs: 4<br>dropout: 0.046803229351878396<br>batch_size: 32",
          "<b>Arm 45_0</b><br><br>Actual Outcome: 41066.0 [nan, nan]<br>Predicted Outcome: 40990.833 [39855.408, 42126.259]<br><br><em>Parameterization:</em><br>hidden_size_1: 47<br>hidden_size_2: 74<br>learning_rate: 0.000757321780001632<br>epochs: 4<br>dropout: 0.0008842295315079395<br>batch_size: 32"
         ],
         "type": "scatter",
         "visible": true,
         "x": [
          21284,
          74901,
          66808,
          31490,
          22864,
          103678,
          101240,
          17444,
          47172,
          20837,
          31032,
          44009,
          40496,
          38618,
          35372,
          32760,
          44009,
          27566,
          34643,
          46497,
          39928,
          25534,
          39698,
          45232,
          29785,
          46880,
          35892,
          41552,
          42149,
          52990,
          23732,
          44240,
          36173,
          35410,
          18710,
          51940,
          44120,
          27912,
          44639,
          31628,
          41220,
          19712,
          36568,
          31950,
          31408,
          41066
         ],
         "y": [
          24126.529135677505,
          72523.00967691903,
          66604.2715212875,
          31343.094889408425,
          23530.683074500976,
          100436.3518509434,
          100990.90553670994,
          18636.665478667248,
          47420.892466796635,
          20583.75318716944,
          31338.522363222917,
          43883.077227011585,
          40306.00912033351,
          39077.12433782425,
          35136.034794752,
          31706.32701030137,
          44111.487176274364,
          27044.57380109968,
          35084.06762570492,
          46365.59604189786,
          39950.524356496935,
          26208.78769259707,
          40183.08925785079,
          45251.43635604105,
          30022.722528035967,
          46837.34647543876,
          35689.68287496496,
          41600.74134327774,
          42056.813585565185,
          52541.720017288004,
          23209.075415442745,
          44145.89893299334,
          36325.49915719369,
          35458.17415005417,
          19777.199219202615,
          52590.0936812041,
          44168.05128480595,
          27969.875856791623,
          45345.45353569024,
          31709.04065642619,
          40793.796457810015,
          20061.896429803033,
          36708.25930620964,
          31877.11733814605,
          31472.90966722802,
          40990.83330755556
         ]
        },
        {
         "hoverinfo": "none",
         "line": {
          "color": "black",
          "dash": "dot",
          "width": 2
         },
         "mode": "lines",
         "showlegend": false,
         "type": "scatter",
         "visible": false,
         "x": [
          0.8513345848385828,
          0.9805158089964605
         ],
         "y": [
          0.8513345848385828,
          0.9805158089964605
         ]
        },
        {
         "error_x": {
          "array": [
           null,
           null,
           null,
           null,
           null,
           null,
           null,
           null,
           null,
           null,
           null,
           null,
           null,
           null,
           null,
           null,
           null,
           null,
           null,
           null,
           null,
           null,
           null,
           null,
           null,
           null,
           null,
           null,
           null,
           null,
           null,
           null,
           null,
           null,
           null,
           null,
           null,
           null,
           null,
           null,
           null,
           null,
           null,
           null,
           null,
           null
          ],
          "color": "rgba(128,177,211,0.4)",
          "type": "data"
         },
         "error_y": {
          "array": [
           0.02527726607148607,
           0.01989407536105862,
           0.019697580781142945,
           0.00906484385817697,
           0.019628812745897138,
           0.018781636053946303,
           0.019271801999268253,
           0.02227605334517143,
           0.010863413224082706,
           0.015344465513123807,
           0.013682266779282531,
           0.007984813771980688,
           0.012435393971875295,
           0.019537376547848304,
           0.01062055862890589,
           0.012470705320006563,
           0.010190653613628555,
           0.008561445512052492,
           0.014690618494627066,
           0.011665571716593551,
           0.004009497323464117,
           0.014393117254405684,
           0.009428765334432997,
           0.010721466428225634,
           0.008597688832556866,
           0.003598300751113538,
           0.006162304135534824,
           0.007318439322629699,
           0.005708829829630886,
           0.007921780314771797,
           0.008547128246987631,
           0.004659838604397613,
           0.004419344811413622,
           0.005652906699374881,
           0.0121775660203342,
           0.006222211579686924,
           0.008796993544421525,
           0.006243233163275891,
           0.011726888277639373,
           0.009270777075565662,
           0.009858241948560928,
           0.013270912309300345,
           0.005030533610872275,
           0.00834369126307125,
           0.008889135051998887,
           0.0056678124279494315
          ],
          "color": "rgba(128,177,211,0.4)",
          "type": "data"
         },
         "hoverinfo": "text",
         "marker": {
          "color": "rgba(128,177,211,1)"
         },
         "mode": "markers",
         "name": "In-sample",
         "showlegend": true,
         "text": [
          "<b>Arm 0_0</b><br><br>Actual Outcome: 0.855 [nan, nan]<br>Predicted Outcome: 0.93 [0.904, 0.955]<br><br><em>Parameterization:</em><br>hidden_size_1: 26<br>hidden_size_2: 25<br>learning_rate: 0.0001434767824236491<br>epochs: 2<br>dropout: 0.33112940192222595<br>batch_size: 256",
          "<b>Arm 1_0</b><br><br>Actual Outcome: 0.956 [nan, nan]<br>Predicted Outcome: 0.948 [0.928, 0.968]<br><br><em>Parameterization:</em><br>hidden_size_1: 87<br>hidden_size_2: 69<br>learning_rate: 0.0029053224531863106<br>epochs: 3<br>dropout: 0.3739301706664264<br>batch_size: 256",
          "<b>Arm 2_0</b><br><br>Actual Outcome: 0.942 [nan, nan]<br>Predicted Outcome: 0.951 [0.932, 0.971]<br><br><em>Parameterization:</em><br>hidden_size_1: 76<br>hidden_size_2: 84<br>learning_rate: 0.002605222277356922<br>epochs: 2<br>dropout: 0.2766162846237421<br>batch_size: 32",
          "<b>Arm 3_0</b><br><br>Actual Outcome: 0.939 [nan, nan]<br>Predicted Outcome: 0.93 [0.921, 0.939]<br><br><em>Parameterization:</em><br>hidden_size_1: 35<br>hidden_size_2: 90<br>learning_rate: 0.0017176423492511292<br>epochs: 1<br>dropout: 0.08004654245451093<br>batch_size: 128",
          "<b>Arm 4_0</b><br><br>Actual Outcome: 0.922 [nan, nan]<br>Predicted Outcome: 0.913 [0.893, 0.932]<br><br><em>Parameterization:</em><br>hidden_size_1: 28<br>hidden_size_2: 24<br>learning_rate: 0.0023618357341640183<br>epochs: 1<br>dropout: 0.05532363662496209<br>batch_size: 32",
          "<b>Arm 5_0</b><br><br>Actual Outcome: 0.952 [nan, nan]<br>Predicted Outcome: 0.958 [0.939, 0.976]<br><br><em>Parameterization:</em><br>hidden_size_1: 127<br>hidden_size_2: 30<br>learning_rate: 0.000211731167925127<br>epochs: 3<br>dropout: 0.09538744669407606<br>batch_size: 64",
          "<b>Arm 6_0</b><br><br>Actual Outcome: 0.964 [nan, nan]<br>Predicted Outcome: 0.948 [0.929, 0.968]<br><br><em>Parameterization:</em><br>hidden_size_1: 125<br>hidden_size_2: 24<br>learning_rate: 0.00018640865242917963<br>epochs: 4<br>dropout: 0.09939862927421927<br>batch_size: 32",
          "<b>Arm 7_0</b><br><br>Actual Outcome: 0.919 [nan, nan]<br>Predicted Outcome: 0.925 [0.902, 0.947]<br><br><em>Parameterization:</em><br>hidden_size_1: 18<br>hidden_size_2: 119<br>learning_rate: 0.0009363742269194095<br>epochs: 2<br>dropout: 0.31237895181402564<br>batch_size: 128",
          "<b>Arm 8_0</b><br><br>Actual Outcome: 0.95 [nan, nan]<br>Predicted Outcome: 0.938 [0.927, 0.949]<br><br><em>Parameterization:</em><br>hidden_size_1: 58<br>hidden_size_2: 25<br>learning_rate: 0.004350933426636407<br>epochs: 2<br>dropout: 0.14793169079348445<br>batch_size: 32",
          "<b>Arm 9_0</b><br><br>Actual Outcome: 0.91 [nan, nan]<br>Predicted Outcome: 0.929 [0.914, 0.945]<br><br><em>Parameterization:</em><br>hidden_size_1: 23<br>hidden_size_2: 85<br>learning_rate: 0.002628503936986519<br>epochs: 1<br>dropout: 0.06107937926709633<br>batch_size: 64",
          "<b>Arm 10_0</b><br><br>Actual Outcome: 0.932 [nan, nan]<br>Predicted Outcome: 0.933 [0.920, 0.947]<br><br><em>Parameterization:</em><br>hidden_size_1: 33<br>hidden_size_2: 120<br>learning_rate: 0.004245949864296547<br>epochs: 1<br>dropout: 0.19452765426241056<br>batch_size: 128",
          "<b>Arm 11_0</b><br><br>Actual Outcome: 0.949 [nan, nan]<br>Predicted Outcome: 0.951 [0.943, 0.959]<br><br><em>Parameterization:</em><br>hidden_size_1: 53<br>hidden_size_2: 39<br>learning_rate: 0.005225384637038674<br>epochs: 2<br>dropout: 0.09008009892761282<br>batch_size: 64",
          "<b>Arm 12_0</b><br><br>Actual Outcome: 0.943 [nan, nan]<br>Predicted Outcome: 0.945 [0.933, 0.958]<br><br><em>Parameterization:</em><br>hidden_size_1: 43<br>hidden_size_2: 128<br>learning_rate: 0.0017926064838767813<br>epochs: 1<br>dropout: 0.09660252828225978<br>batch_size: 256",
          "<b>Arm 13_0</b><br><br>Actual Outcome: 0.888 [nan, nan]<br>Predicted Outcome: 0.936 [0.917, 0.956]<br><br><em>Parameterization:</em><br>hidden_size_1: 48<br>hidden_size_2: 17<br>learning_rate: 0.01<br>epochs: 1<br>dropout: 0.23951458804359507<br>batch_size: 32",
          "<b>Arm 14_0</b><br><br>Actual Outcome: 0.95 [nan, nan]<br>Predicted Outcome: 0.943 [0.932, 0.954]<br><br><em>Parameterization:</em><br>hidden_size_1: 42<br>hidden_size_2: 47<br>learning_rate: 0.006772133699961381<br>epochs: 2<br>dropout: 0.08510201078722962<br>batch_size: 256",
          "<b>Arm 15_0</b><br><br>Actual Outcome: 0.948 [nan, nan]<br>Predicted Outcome: 0.948 [0.935, 0.960]<br><br><em>Parameterization:</em><br>hidden_size_1: 40<br>hidden_size_2: 28<br>learning_rate: 0.0022820468258950206<br>epochs: 3<br>dropout: 0.11004397150643774<br>batch_size: 32",
          "<b>Arm 16_0</b><br><br>Actual Outcome: 0.949 [nan, nan]<br>Predicted Outcome: 0.95 [0.939, 0.960]<br><br><em>Parameterization:</em><br>hidden_size_1: 53<br>hidden_size_2: 39<br>learning_rate: 0.002837659183241426<br>epochs: 2<br>dropout: 0.04027651585477238<br>batch_size: 32",
          "<b>Arm 17_0</b><br><br>Actual Outcome: 0.949 [nan, nan]<br>Predicted Outcome: 0.947 [0.938, 0.955]<br><br><em>Parameterization:</em><br>hidden_size_1: 32<br>hidden_size_2: 59<br>learning_rate: 0.004363761288111755<br>epochs: 3<br>dropout: 0.16909138489485928<br>batch_size: 128",
          "<b>Arm 18_0</b><br><br>Actual Outcome: 0.932 [nan, nan]<br>Predicted Outcome: 0.942 [0.928, 0.957]<br><br><em>Parameterization:</em><br>hidden_size_1: 41<br>hidden_size_2: 49<br>learning_rate: 0.002729593599876776<br>epochs: 1<br>dropout: 0.0<br>batch_size: 256",
          "<b>Arm 19_0</b><br><br>Actual Outcome: 0.951 [nan, nan]<br>Predicted Outcome: 0.955 [0.944, 0.967]<br><br><em>Parameterization:</em><br>hidden_size_1: 57<br>hidden_size_2: 27<br>learning_rate: 0.002784531341964584<br>epochs: 3<br>dropout: 0.10870606861702152<br>batch_size: 64",
          "<b>Arm 20_0</b><br><br>Actual Outcome: 0.959 [nan, nan]<br>Predicted Outcome: 0.957 [0.953, 0.961]<br><br><em>Parameterization:</em><br>hidden_size_1: 46<br>hidden_size_2: 69<br>learning_rate: 0.00350793125863134<br>epochs: 3<br>dropout: 0.16452356200290869<br>batch_size: 256",
          "<b>Arm 21_0</b><br><br>Actual Outcome: 0.936 [nan, nan]<br>Predicted Outcome: 0.942 [0.927, 0.956]<br><br><em>Parameterization:</em><br>hidden_size_1: 31<br>hidden_size_2: 30<br>learning_rate: 0.006155673760960595<br>epochs: 3<br>dropout: 0.05595837260580259<br>batch_size: 128",
          "<b>Arm 22_0</b><br><br>Actual Outcome: 0.952 [nan, nan]<br>Predicted Outcome: 0.951 [0.942, 0.961]<br><br><em>Parameterization:</em><br>hidden_size_1: 47<br>hidden_size_2: 50<br>learning_rate: 0.007225891127178984<br>epochs: 3<br>dropout: 0.23180749133005782<br>batch_size: 256",
          "<b>Arm 23_0</b><br><br>Actual Outcome: 0.957 [nan, nan]<br>Predicted Outcome: 0.955 [0.944, 0.966]<br><br><em>Parameterization:</em><br>hidden_size_1: 52<br>hidden_size_2: 72<br>learning_rate: 0.002798179138056188<br>epochs: 2<br>dropout: 0.14503056080703147<br>batch_size: 256",
          "<b>Arm 24_0</b><br><br>Actual Outcome: 0.954 [nan, nan]<br>Predicted Outcome: 0.952 [0.943, 0.961]<br><br><em>Parameterization:</em><br>hidden_size_1: 33<br>hidden_size_2: 91<br>learning_rate: 0.0033679541540761024<br>epochs: 3<br>dropout: 0.09945665618720774<br>batch_size: 256",
          "<b>Arm 25_0</b><br><br>Actual Outcome: 0.964 [nan, nan]<br>Predicted Outcome: 0.96 [0.957, 0.964]<br><br><em>Parameterization:</em><br>hidden_size_1: 54<br>hidden_size_2: 71<br>learning_rate: 0.002772015264563267<br>epochs: 3<br>dropout: 0.16672305109441052<br>batch_size: 128",
          "<b>Arm 26_0</b><br><br>Actual Outcome: 0.951 [nan, nan]<br>Predicted Outcome: 0.957 [0.951, 0.963]<br><br><em>Parameterization:</em><br>hidden_size_1: 42<br>hidden_size_2: 57<br>learning_rate: 0.0024315337698167833<br>epochs: 3<br>dropout: 0.19474503551564407<br>batch_size: 256",
          "<b>Arm 27_0</b><br><br>Actual Outcome: 0.956 [nan, nan]<br>Predicted Outcome: 0.957 [0.950, 0.964]<br><br><em>Parameterization:</em><br>hidden_size_1: 46<br>hidden_size_2: 98<br>learning_rate: 0.006049018833553533<br>epochs: 3<br>dropout: 0.13709920202400355<br>batch_size: 256",
          "<b>Arm 28_0</b><br><br>Actual Outcome: 0.962 [nan, nan]<br>Predicted Outcome: 0.961 [0.955, 0.966]<br><br><em>Parameterization:</em><br>hidden_size_1: 47<br>hidden_size_2: 93<br>learning_rate: 0.0018303290821920122<br>epochs: 3<br>dropout: 0.08922284620729605<br>batch_size: 128",
          "<b>Arm 29_0</b><br><br>Actual Outcome: 0.954 [nan, nan]<br>Predicted Outcome: 0.961 [0.953, 0.968]<br><br><em>Parameterization:</em><br>hidden_size_1: 60<br>hidden_size_2: 85<br>learning_rate: 0.00539443174947917<br>epochs: 3<br>dropout: 0.12865895369245992<br>batch_size: 128",
          "<b>Arm 30_0</b><br><br>Actual Outcome: 0.955 [nan, nan]<br>Predicted Outcome: 0.955 [0.947, 0.964]<br><br><em>Parameterization:</em><br>hidden_size_1: 26<br>hidden_size_2: 93<br>learning_rate: 0.0010940926056826755<br>epochs: 4<br>dropout: 0.06093513841124719<br>batch_size: 128",
          "<b>Arm 31_0</b><br><br>Actual Outcome: 0.963 [nan, nan]<br>Predicted Outcome: 0.963 [0.958, 0.967]<br><br><em>Parameterization:</em><br>hidden_size_1: 50<br>hidden_size_2: 84<br>learning_rate: 0.0019538650031968707<br>epochs: 3<br>dropout: 0.17482033724912127<br>batch_size: 128",
          "<b>Arm 32_0</b><br><br>Actual Outcome: 0.959 [nan, nan]<br>Predicted Outcome: 0.96 [0.956, 0.964]<br><br><em>Parameterization:</em><br>hidden_size_1: 41<br>hidden_size_2: 79<br>learning_rate: 0.002648680531166817<br>epochs: 3<br>dropout: 0.12367523348987207<br>batch_size: 128",
          "<b>Arm 33_0</b><br><br>Actual Outcome: 0.963 [nan, nan]<br>Predicted Outcome: 0.964 [0.958, 0.969]<br><br><em>Parameterization:</em><br>hidden_size_1: 40<br>hidden_size_2: 81<br>learning_rate: 0.0009979208885641613<br>epochs: 4<br>dropout: 0.11526085100574014<br>batch_size: 64",
          "<b>Arm 34_0</b><br><br>Actual Outcome: 0.947 [nan, nan]<br>Predicted Outcome: 0.946 [0.934, 0.958]<br><br><em>Parameterization:</em><br>hidden_size_1: 20<br>hidden_size_2: 101<br>learning_rate: 0.002038626116246448<br>epochs: 4<br>dropout: 0.10913020356854687<br>batch_size: 128",
          "<b>Arm 35_0</b><br><br>Actual Outcome: 0.962 [nan, nan]<br>Predicted Outcome: 0.963 [0.957, 0.969]<br><br><em>Parameterization:</em><br>hidden_size_1: 60<br>hidden_size_2: 70<br>learning_rate: 0.001590451581970858<br>epochs: 3<br>dropout: 0.13605753732320264<br>batch_size: 128",
          "<b>Arm 36_0</b><br><br>Actual Outcome: 0.963 [nan, nan]<br>Predicted Outcome: 0.96 [0.952, 0.969]<br><br><em>Parameterization:</em><br>hidden_size_1: 50<br>hidden_size_2: 82<br>learning_rate: 0.0010268320765114054<br>epochs: 4<br>dropout: 0.10210561054102789<br>batch_size: 128",
          "<b>Arm 37_0</b><br><br>Actual Outcome: 0.961 [nan, nan]<br>Predicted Outcome: 0.961 [0.955, 0.968]<br><br><em>Parameterization:</em><br>hidden_size_1: 31<br>hidden_size_2: 88<br>learning_rate: 0.0005489248238608655<br>epochs: 4<br>dropout: 0.041998030049184086<br>batch_size: 32",
          "<b>Arm 38_0</b><br><br>Actual Outcome: 0.963 [nan, nan]<br>Predicted Outcome: 0.961 [0.949, 0.973]<br><br><em>Parameterization:</em><br>hidden_size_1: 53<br>hidden_size_2: 49<br>learning_rate: 0.0004259949381473743<br>epochs: 4<br>dropout: 0.12375317521500247<br>batch_size: 32",
          "<b>Arm 39_0</b><br><br>Actual Outcome: 0.96 [nan, nan]<br>Predicted Outcome: 0.958 [0.949, 0.968]<br><br><em>Parameterization:</em><br>hidden_size_1: 34<br>hidden_size_2: 113<br>learning_rate: 0.0012848059245821174<br>epochs: 4<br>dropout: 0.159982570212143<br>batch_size: 128",
          "<b>Arm 40_0</b><br><br>Actual Outcome: 0.961 [nan, nan]<br>Predicted Outcome: 0.963 [0.953, 0.973]<br><br><em>Parameterization:</em><br>hidden_size_1: 45<br>hidden_size_2: 108<br>learning_rate: 0.00044147059335426423<br>epochs: 4<br>dropout: 0.057307727797324064<br>batch_size: 64",
          "<b>Arm 41_0</b><br><br>Actual Outcome: 0.947 [nan, nan]<br>Predicted Outcome: 0.949 [0.936, 0.963]<br><br><em>Parameterization:</em><br>hidden_size_1: 22<br>hidden_size_2: 77<br>learning_rate: 0.0003989276365812258<br>epochs: 4<br>dropout: 0.1432906720190824<br>batch_size: 32",
          "<b>Arm 42_0</b><br><br>Actual Outcome: 0.966 [nan, nan]<br>Predicted Outcome: 0.959 [0.954, 0.964]<br><br><em>Parameterization:</em><br>hidden_size_1: 42<br>hidden_size_2: 70<br>learning_rate: 0.0005856646049078795<br>epochs: 4<br>dropout: 0.0<br>batch_size: 32",
          "<b>Arm 43_0</b><br><br>Actual Outcome: 0.96 [nan, nan]<br>Predicted Outcome: 0.96 [0.952, 0.969]<br><br><em>Parameterization:</em><br>hidden_size_1: 36<br>hidden_size_2: 81<br>learning_rate: 0.0005137184947408184<br>epochs: 4<br>dropout: 0.16660182769823986<br>batch_size: 32",
          "<b>Arm 44_0</b><br><br>Actual Outcome: 0.961 [nan, nan]<br>Predicted Outcome: 0.958 [0.949, 0.967]<br><br><em>Parameterization:</em><br>hidden_size_1: 34<br>hidden_size_2: 108<br>learning_rate: 0.001265315859699169<br>epochs: 4<br>dropout: 0.046803229351878396<br>batch_size: 32",
          "<b>Arm 45_0</b><br><br>Actual Outcome: 0.957 [nan, nan]<br>Predicted Outcome: 0.965 [0.959, 0.971]<br><br><em>Parameterization:</em><br>hidden_size_1: 47<br>hidden_size_2: 74<br>learning_rate: 0.000757321780001632<br>epochs: 4<br>dropout: 0.0008842295315079395<br>batch_size: 32"
         ],
         "type": "scatter",
         "visible": false,
         "x": [
          0.8554999828338623,
          0.9562000036239624,
          0.9422000050544739,
          0.9387999773025513,
          0.9215999841690063,
          0.9524000287055969,
          0.9642000198364258,
          0.9186999797821045,
          0.9495999813079834,
          0.9101999998092651,
          0.9323999881744385,
          0.9488000273704529,
          0.9433000087738037,
          0.8881999850273132,
          0.9501000046730042,
          0.947700023651123,
          0.9488999843597412,
          0.9488000273704529,
          0.9315000176429749,
          0.9513999819755554,
          0.9587000012397766,
          0.9358999729156494,
          0.9520000219345093,
          0.9574000239372253,
          0.9535999894142151,
          0.9641000032424927,
          0.9513000249862671,
          0.9557999968528748,
          0.9617999792098999,
          0.9539999961853027,
          0.9546999931335449,
          0.9627000093460083,
          0.9585000276565552,
          0.9629999995231628,
          0.9474999904632568,
          0.9623000025749207,
          0.963100016117096,
          0.9607999920845032,
          0.9625999927520752,
          0.9595999717712402,
          0.9606999754905701,
          0.9473000168800354,
          0.9656999707221985,
          0.9599000215530396,
          0.9613000154495239,
          0.9573000073432922
         ],
         "y": [
          0.9297597685103204,
          0.9481404422630552,
          0.9512153332900843,
          0.9298179252880134,
          0.9126712638414889,
          0.9575687749472347,
          0.9482868792352712,
          0.9245878352618981,
          0.9377667655060594,
          0.9294514830250711,
          0.9332273812247102,
          0.9507609297111973,
          0.9453240223887492,
          0.9364230838765321,
          0.9429187397964596,
          0.9478415191981349,
          0.9496662066419956,
          0.9465190937779737,
          0.9422830123053461,
          0.9554696066931819,
          0.9570806162980815,
          0.9416429569871907,
          0.9514679319746039,
          0.955205450539639,
          0.9519069140406269,
          0.9603471843212771,
          0.9567166325233668,
          0.9568352398211344,
          0.9607826041173834,
          0.9605146712489195,
          0.9553075279469243,
          0.9625551450944491,
          0.9599223521585021,
          0.9636312114546052,
          0.9462342008365004,
          0.9630311318026068,
          0.9603519162242286,
          0.961316677167481,
          0.960899959217801,
          0.9583896090227247,
          0.9626806922097839,
          0.9493390340014867,
          0.958635094147538,
          0.9602735577310465,
          0.9580607416113107,
          0.964960130015504
         ]
        }
       ],
       "layout": {
        "annotations": [
         {
          "showarrow": false,
          "text": "Show CI",
          "x": 1.125,
          "xanchor": "left",
          "xref": "paper",
          "y": 0.9,
          "yanchor": "middle",
          "yref": "paper"
         }
        ],
        "height": 500,
        "hovermode": "closest",
        "margin": {
         "b": 90
        },
        "showlegend": false,
        "template": {
         "data": {
          "bar": [
           {
            "error_x": {
             "color": "#2a3f5f"
            },
            "error_y": {
             "color": "#2a3f5f"
            },
            "marker": {
             "line": {
              "color": "#E5ECF6",
              "width": 0.5
             },
             "pattern": {
              "fillmode": "overlay",
              "size": 10,
              "solidity": 0.2
             }
            },
            "type": "bar"
           }
          ],
          "barpolar": [
           {
            "marker": {
             "line": {
              "color": "#E5ECF6",
              "width": 0.5
             },
             "pattern": {
              "fillmode": "overlay",
              "size": 10,
              "solidity": 0.2
             }
            },
            "type": "barpolar"
           }
          ],
          "carpet": [
           {
            "aaxis": {
             "endlinecolor": "#2a3f5f",
             "gridcolor": "white",
             "linecolor": "white",
             "minorgridcolor": "white",
             "startlinecolor": "#2a3f5f"
            },
            "baxis": {
             "endlinecolor": "#2a3f5f",
             "gridcolor": "white",
             "linecolor": "white",
             "minorgridcolor": "white",
             "startlinecolor": "#2a3f5f"
            },
            "type": "carpet"
           }
          ],
          "choropleth": [
           {
            "colorbar": {
             "outlinewidth": 0,
             "ticks": ""
            },
            "type": "choropleth"
           }
          ],
          "contour": [
           {
            "colorbar": {
             "outlinewidth": 0,
             "ticks": ""
            },
            "colorscale": [
             [
              0,
              "#0d0887"
             ],
             [
              0.1111111111111111,
              "#46039f"
             ],
             [
              0.2222222222222222,
              "#7201a8"
             ],
             [
              0.3333333333333333,
              "#9c179e"
             ],
             [
              0.4444444444444444,
              "#bd3786"
             ],
             [
              0.5555555555555556,
              "#d8576b"
             ],
             [
              0.6666666666666666,
              "#ed7953"
             ],
             [
              0.7777777777777778,
              "#fb9f3a"
             ],
             [
              0.8888888888888888,
              "#fdca26"
             ],
             [
              1,
              "#f0f921"
             ]
            ],
            "type": "contour"
           }
          ],
          "contourcarpet": [
           {
            "colorbar": {
             "outlinewidth": 0,
             "ticks": ""
            },
            "type": "contourcarpet"
           }
          ],
          "heatmap": [
           {
            "colorbar": {
             "outlinewidth": 0,
             "ticks": ""
            },
            "colorscale": [
             [
              0,
              "#0d0887"
             ],
             [
              0.1111111111111111,
              "#46039f"
             ],
             [
              0.2222222222222222,
              "#7201a8"
             ],
             [
              0.3333333333333333,
              "#9c179e"
             ],
             [
              0.4444444444444444,
              "#bd3786"
             ],
             [
              0.5555555555555556,
              "#d8576b"
             ],
             [
              0.6666666666666666,
              "#ed7953"
             ],
             [
              0.7777777777777778,
              "#fb9f3a"
             ],
             [
              0.8888888888888888,
              "#fdca26"
             ],
             [
              1,
              "#f0f921"
             ]
            ],
            "type": "heatmap"
           }
          ],
          "heatmapgl": [
           {
            "colorbar": {
             "outlinewidth": 0,
             "ticks": ""
            },
            "colorscale": [
             [
              0,
              "#0d0887"
             ],
             [
              0.1111111111111111,
              "#46039f"
             ],
             [
              0.2222222222222222,
              "#7201a8"
             ],
             [
              0.3333333333333333,
              "#9c179e"
             ],
             [
              0.4444444444444444,
              "#bd3786"
             ],
             [
              0.5555555555555556,
              "#d8576b"
             ],
             [
              0.6666666666666666,
              "#ed7953"
             ],
             [
              0.7777777777777778,
              "#fb9f3a"
             ],
             [
              0.8888888888888888,
              "#fdca26"
             ],
             [
              1,
              "#f0f921"
             ]
            ],
            "type": "heatmapgl"
           }
          ],
          "histogram": [
           {
            "marker": {
             "pattern": {
              "fillmode": "overlay",
              "size": 10,
              "solidity": 0.2
             }
            },
            "type": "histogram"
           }
          ],
          "histogram2d": [
           {
            "colorbar": {
             "outlinewidth": 0,
             "ticks": ""
            },
            "colorscale": [
             [
              0,
              "#0d0887"
             ],
             [
              0.1111111111111111,
              "#46039f"
             ],
             [
              0.2222222222222222,
              "#7201a8"
             ],
             [
              0.3333333333333333,
              "#9c179e"
             ],
             [
              0.4444444444444444,
              "#bd3786"
             ],
             [
              0.5555555555555556,
              "#d8576b"
             ],
             [
              0.6666666666666666,
              "#ed7953"
             ],
             [
              0.7777777777777778,
              "#fb9f3a"
             ],
             [
              0.8888888888888888,
              "#fdca26"
             ],
             [
              1,
              "#f0f921"
             ]
            ],
            "type": "histogram2d"
           }
          ],
          "histogram2dcontour": [
           {
            "colorbar": {
             "outlinewidth": 0,
             "ticks": ""
            },
            "colorscale": [
             [
              0,
              "#0d0887"
             ],
             [
              0.1111111111111111,
              "#46039f"
             ],
             [
              0.2222222222222222,
              "#7201a8"
             ],
             [
              0.3333333333333333,
              "#9c179e"
             ],
             [
              0.4444444444444444,
              "#bd3786"
             ],
             [
              0.5555555555555556,
              "#d8576b"
             ],
             [
              0.6666666666666666,
              "#ed7953"
             ],
             [
              0.7777777777777778,
              "#fb9f3a"
             ],
             [
              0.8888888888888888,
              "#fdca26"
             ],
             [
              1,
              "#f0f921"
             ]
            ],
            "type": "histogram2dcontour"
           }
          ],
          "mesh3d": [
           {
            "colorbar": {
             "outlinewidth": 0,
             "ticks": ""
            },
            "type": "mesh3d"
           }
          ],
          "parcoords": [
           {
            "line": {
             "colorbar": {
              "outlinewidth": 0,
              "ticks": ""
             }
            },
            "type": "parcoords"
           }
          ],
          "pie": [
           {
            "automargin": true,
            "type": "pie"
           }
          ],
          "scatter": [
           {
            "fillpattern": {
             "fillmode": "overlay",
             "size": 10,
             "solidity": 0.2
            },
            "type": "scatter"
           }
          ],
          "scatter3d": [
           {
            "line": {
             "colorbar": {
              "outlinewidth": 0,
              "ticks": ""
             }
            },
            "marker": {
             "colorbar": {
              "outlinewidth": 0,
              "ticks": ""
             }
            },
            "type": "scatter3d"
           }
          ],
          "scattercarpet": [
           {
            "marker": {
             "colorbar": {
              "outlinewidth": 0,
              "ticks": ""
             }
            },
            "type": "scattercarpet"
           }
          ],
          "scattergeo": [
           {
            "marker": {
             "colorbar": {
              "outlinewidth": 0,
              "ticks": ""
             }
            },
            "type": "scattergeo"
           }
          ],
          "scattergl": [
           {
            "marker": {
             "colorbar": {
              "outlinewidth": 0,
              "ticks": ""
             }
            },
            "type": "scattergl"
           }
          ],
          "scattermapbox": [
           {
            "marker": {
             "colorbar": {
              "outlinewidth": 0,
              "ticks": ""
             }
            },
            "type": "scattermapbox"
           }
          ],
          "scatterpolar": [
           {
            "marker": {
             "colorbar": {
              "outlinewidth": 0,
              "ticks": ""
             }
            },
            "type": "scatterpolar"
           }
          ],
          "scatterpolargl": [
           {
            "marker": {
             "colorbar": {
              "outlinewidth": 0,
              "ticks": ""
             }
            },
            "type": "scatterpolargl"
           }
          ],
          "scatterternary": [
           {
            "marker": {
             "colorbar": {
              "outlinewidth": 0,
              "ticks": ""
             }
            },
            "type": "scatterternary"
           }
          ],
          "surface": [
           {
            "colorbar": {
             "outlinewidth": 0,
             "ticks": ""
            },
            "colorscale": [
             [
              0,
              "#0d0887"
             ],
             [
              0.1111111111111111,
              "#46039f"
             ],
             [
              0.2222222222222222,
              "#7201a8"
             ],
             [
              0.3333333333333333,
              "#9c179e"
             ],
             [
              0.4444444444444444,
              "#bd3786"
             ],
             [
              0.5555555555555556,
              "#d8576b"
             ],
             [
              0.6666666666666666,
              "#ed7953"
             ],
             [
              0.7777777777777778,
              "#fb9f3a"
             ],
             [
              0.8888888888888888,
              "#fdca26"
             ],
             [
              1,
              "#f0f921"
             ]
            ],
            "type": "surface"
           }
          ],
          "table": [
           {
            "cells": {
             "fill": {
              "color": "#EBF0F8"
             },
             "line": {
              "color": "white"
             }
            },
            "header": {
             "fill": {
              "color": "#C8D4E3"
             },
             "line": {
              "color": "white"
             }
            },
            "type": "table"
           }
          ]
         },
         "layout": {
          "annotationdefaults": {
           "arrowcolor": "#2a3f5f",
           "arrowhead": 0,
           "arrowwidth": 1
          },
          "autotypenumbers": "strict",
          "coloraxis": {
           "colorbar": {
            "outlinewidth": 0,
            "ticks": ""
           }
          },
          "colorscale": {
           "diverging": [
            [
             0,
             "#8e0152"
            ],
            [
             0.1,
             "#c51b7d"
            ],
            [
             0.2,
             "#de77ae"
            ],
            [
             0.3,
             "#f1b6da"
            ],
            [
             0.4,
             "#fde0ef"
            ],
            [
             0.5,
             "#f7f7f7"
            ],
            [
             0.6,
             "#e6f5d0"
            ],
            [
             0.7,
             "#b8e186"
            ],
            [
             0.8,
             "#7fbc41"
            ],
            [
             0.9,
             "#4d9221"
            ],
            [
             1,
             "#276419"
            ]
           ],
           "sequential": [
            [
             0,
             "#0d0887"
            ],
            [
             0.1111111111111111,
             "#46039f"
            ],
            [
             0.2222222222222222,
             "#7201a8"
            ],
            [
             0.3333333333333333,
             "#9c179e"
            ],
            [
             0.4444444444444444,
             "#bd3786"
            ],
            [
             0.5555555555555556,
             "#d8576b"
            ],
            [
             0.6666666666666666,
             "#ed7953"
            ],
            [
             0.7777777777777778,
             "#fb9f3a"
            ],
            [
             0.8888888888888888,
             "#fdca26"
            ],
            [
             1,
             "#f0f921"
            ]
           ],
           "sequentialminus": [
            [
             0,
             "#0d0887"
            ],
            [
             0.1111111111111111,
             "#46039f"
            ],
            [
             0.2222222222222222,
             "#7201a8"
            ],
            [
             0.3333333333333333,
             "#9c179e"
            ],
            [
             0.4444444444444444,
             "#bd3786"
            ],
            [
             0.5555555555555556,
             "#d8576b"
            ],
            [
             0.6666666666666666,
             "#ed7953"
            ],
            [
             0.7777777777777778,
             "#fb9f3a"
            ],
            [
             0.8888888888888888,
             "#fdca26"
            ],
            [
             1,
             "#f0f921"
            ]
           ]
          },
          "colorway": [
           "#636efa",
           "#EF553B",
           "#00cc96",
           "#ab63fa",
           "#FFA15A",
           "#19d3f3",
           "#FF6692",
           "#B6E880",
           "#FF97FF",
           "#FECB52"
          ],
          "font": {
           "color": "#2a3f5f"
          },
          "geo": {
           "bgcolor": "white",
           "lakecolor": "white",
           "landcolor": "#E5ECF6",
           "showlakes": true,
           "showland": true,
           "subunitcolor": "white"
          },
          "hoverlabel": {
           "align": "left"
          },
          "hovermode": "closest",
          "mapbox": {
           "style": "light"
          },
          "paper_bgcolor": "white",
          "plot_bgcolor": "#E5ECF6",
          "polar": {
           "angularaxis": {
            "gridcolor": "white",
            "linecolor": "white",
            "ticks": ""
           },
           "bgcolor": "#E5ECF6",
           "radialaxis": {
            "gridcolor": "white",
            "linecolor": "white",
            "ticks": ""
           }
          },
          "scene": {
           "xaxis": {
            "backgroundcolor": "#E5ECF6",
            "gridcolor": "white",
            "gridwidth": 2,
            "linecolor": "white",
            "showbackground": true,
            "ticks": "",
            "zerolinecolor": "white"
           },
           "yaxis": {
            "backgroundcolor": "#E5ECF6",
            "gridcolor": "white",
            "gridwidth": 2,
            "linecolor": "white",
            "showbackground": true,
            "ticks": "",
            "zerolinecolor": "white"
           },
           "zaxis": {
            "backgroundcolor": "#E5ECF6",
            "gridcolor": "white",
            "gridwidth": 2,
            "linecolor": "white",
            "showbackground": true,
            "ticks": "",
            "zerolinecolor": "white"
           }
          },
          "shapedefaults": {
           "line": {
            "color": "#2a3f5f"
           }
          },
          "ternary": {
           "aaxis": {
            "gridcolor": "white",
            "linecolor": "white",
            "ticks": ""
           },
           "baxis": {
            "gridcolor": "white",
            "linecolor": "white",
            "ticks": ""
           },
           "bgcolor": "#E5ECF6",
           "caxis": {
            "gridcolor": "white",
            "linecolor": "white",
            "ticks": ""
           }
          },
          "title": {
           "x": 0.05
          },
          "xaxis": {
           "automargin": true,
           "gridcolor": "white",
           "linecolor": "white",
           "ticks": "",
           "title": {
            "standoff": 15
           },
           "zerolinecolor": "white",
           "zerolinewidth": 2
          },
          "yaxis": {
           "automargin": true,
           "gridcolor": "white",
           "linecolor": "white",
           "ticks": "",
           "title": {
            "standoff": 15
           },
           "zerolinecolor": "white",
           "zerolinewidth": 2
          }
         }
        },
        "title": {
         "text": "Cross-validation"
        },
        "updatemenus": [
         {
          "buttons": [
           {
            "args": [
             {
              "visible": [
               true,
               true,
               false,
               false
              ]
             },
             {
              "xaxis.range": [
               6991.768534210013,
               110772.89023231706
              ],
              "yaxis.range": [
               6991.768534210013,
               110772.89023231706
              ]
             }
            ],
            "label": "num_params",
            "method": "update"
           },
           {
            "args": [
             {
              "visible": [
               false,
               false,
               true,
               true
              ]
             },
             {
              "xaxis.range": [
               0.8888770531003123,
               0.9805158089964605
              ],
              "yaxis.range": [
               0.8888770531003123,
               0.9805158089964605
              ]
             }
            ],
            "label": "val_acc",
            "method": "update"
           }
          ],
          "x": 0,
          "xanchor": "left",
          "y": 1.125,
          "yanchor": "top"
         },
         {
          "buttons": [
           {
            "args": [
             {
              "error_x.thickness": 2,
              "error_x.width": 4,
              "error_y.thickness": 2,
              "error_y.width": 4
             }
            ],
            "label": "Yes",
            "method": "restyle"
           },
           {
            "args": [
             {
              "error_x.thickness": 0,
              "error_x.width": 0,
              "error_y.thickness": 0,
              "error_y.width": 0
             }
            ],
            "label": "No",
            "method": "restyle"
           }
          ],
          "x": 1.125,
          "xanchor": "left",
          "y": 0.8,
          "yanchor": "middle"
         }
        ],
        "width": 530,
        "xaxis": {
         "linecolor": "black",
         "linewidth": 0.5,
         "mirror": true,
         "range": [
          6991.768534210013,
          110772.89023231706
         ],
         "title": {
          "text": "Actual Outcome"
         },
         "zeroline": false
        },
        "yaxis": {
         "linecolor": "black",
         "linewidth": 0.5,
         "mirror": true,
         "range": [
          6991.768534210013,
          110772.89023231706
         ],
         "title": {
          "text": "Predicted Outcome"
         },
         "zeroline": false
        }
       }
      },
      "text/html": [
       "<div>                            <div id=\"8f298962-779e-4e20-963f-e74b941e2a0d\" class=\"plotly-graph-div\" style=\"height:500px; width:530px;\"></div>            <script type=\"text/javascript\">                require([\"plotly\"], function(Plotly) {                    window.PLOTLYENV=window.PLOTLYENV || {};                                    if (document.getElementById(\"8f298962-779e-4e20-963f-e74b941e2a0d\")) {                    Plotly.newPlot(                        \"8f298962-779e-4e20-963f-e74b941e2a0d\",                        [{\"hoverinfo\":\"none\",\"line\":{\"color\":\"black\",\"dash\":\"dot\",\"width\":2},\"mode\":\"lines\",\"showlegend\":false,\"visible\":true,\"x\":[6991.768534210013,110772.89023231706],\"y\":[6991.768534210013,110772.89023231706],\"type\":\"scatter\"},{\"error_x\":{\"array\":[null,null,null,null,null,null,null,null,null,null,null,null,null,null,null,null,null,null,null,null,null,null,null,null,null,null,null,null,null,null,null,null,null,null,null,null,null,null,null,null,null,null,null,null,null,null],\"color\":\"rgba(128,177,211,0.4)\",\"type\":\"data\"},\"error_y\":{\"array\":[9026.299626827767,7602.724197605359,5534.999385569389,1884.4577965172714,4974.194058047844,4806.782316242688,5064.660982056813,6927.5732309069135,1760.7467230935215,4652.182177505819,2880.5273272791196,1238.369929656849,2462.964032150344,4239.84086610224,1461.1656505792112,2741.5390579771333,1686.4667237789563,1779.7713607737426,2294.4705378707604,1899.1815803481786,508.13894124362236,3009.006550616158,1618.77804603336,1436.2421549963626,1777.3334488204266,535.816131417654,997.530115867318,1155.9087286821548,799.1946122451105,1700.4288472462033,2070.5188893515024,683.6177127017519,747.6529412469938,933.9373719838268,3843.931251692449,1229.8787326746085,1291.6654145587659,1412.2346492687839,2592.098202840771,1729.3348230665435,1685.2509210768071,4313.902370379665,1047.743699471717,1862.7868567967903,1867.051792423005,1135.425215510561],\"color\":\"rgba(128,177,211,0.4)\",\"type\":\"data\"},\"hoverinfo\":\"text\",\"marker\":{\"color\":\"rgba(128,177,211,1)\"},\"mode\":\"markers\",\"name\":\"In-sample\",\"showlegend\":true,\"text\":[\"<b>Arm 0_0</b><br><br>Actual Outcome: 21284.0 [nan, nan]<br>Predicted Outcome: 24126.529 [15100.230, 33152.829]<br><br><em>Parameterization:</em><br>hidden_size_1: 26<br>hidden_size_2: 25<br>learning_rate: 0.0001434767824236491<br>epochs: 2<br>dropout: 0.33112940192222595<br>batch_size: 256\",\"<b>Arm 1_0</b><br><br>Actual Outcome: 74901.0 [nan, nan]<br>Predicted Outcome: 72523.01 [64920.285, 80125.734]<br><br><em>Parameterization:</em><br>hidden_size_1: 87<br>hidden_size_2: 69<br>learning_rate: 0.0029053224531863106<br>epochs: 3<br>dropout: 0.3739301706664264<br>batch_size: 256\",\"<b>Arm 2_0</b><br><br>Actual Outcome: 66808.0 [nan, nan]<br>Predicted Outcome: 66604.272 [61069.272, 72139.271]<br><br><em>Parameterization:</em><br>hidden_size_1: 76<br>hidden_size_2: 84<br>learning_rate: 0.002605222277356922<br>epochs: 2<br>dropout: 0.2766162846237421<br>batch_size: 32\",\"<b>Arm 3_0</b><br><br>Actual Outcome: 31490.0 [nan, nan]<br>Predicted Outcome: 31343.095 [29458.637, 33227.553]<br><br><em>Parameterization:</em><br>hidden_size_1: 35<br>hidden_size_2: 90<br>learning_rate: 0.0017176423492511292<br>epochs: 1<br>dropout: 0.08004654245451093<br>batch_size: 128\",\"<b>Arm 4_0</b><br><br>Actual Outcome: 22864.0 [nan, nan]<br>Predicted Outcome: 23530.683 [18556.489, 28504.877]<br><br><em>Parameterization:</em><br>hidden_size_1: 28<br>hidden_size_2: 24<br>learning_rate: 0.0023618357341640183<br>epochs: 1<br>dropout: 0.05532363662496209<br>batch_size: 32\",\"<b>Arm 5_0</b><br><br>Actual Outcome: 103678.0 [nan, nan]<br>Predicted Outcome: 100436.352 [95629.570, 105243.134]<br><br><em>Parameterization:</em><br>hidden_size_1: 127<br>hidden_size_2: 30<br>learning_rate: 0.000211731167925127<br>epochs: 3<br>dropout: 0.09538744669407606<br>batch_size: 64\",\"<b>Arm 6_0</b><br><br>Actual Outcome: 101240.0 [nan, nan]<br>Predicted Outcome: 100990.906 [95926.245, 106055.567]<br><br><em>Parameterization:</em><br>hidden_size_1: 125<br>hidden_size_2: 24<br>learning_rate: 0.00018640865242917963<br>epochs: 4<br>dropout: 0.09939862927421927<br>batch_size: 32\",\"<b>Arm 7_0</b><br><br>Actual Outcome: 17444.0 [nan, nan]<br>Predicted Outcome: 18636.665 [11709.092, 25564.239]<br><br><em>Parameterization:</em><br>hidden_size_1: 18<br>hidden_size_2: 119<br>learning_rate: 0.0009363742269194095<br>epochs: 2<br>dropout: 0.31237895181402564<br>batch_size: 128\",\"<b>Arm 8_0</b><br><br>Actual Outcome: 47172.0 [nan, nan]<br>Predicted Outcome: 47420.892 [45660.146, 49181.639]<br><br><em>Parameterization:</em><br>hidden_size_1: 58<br>hidden_size_2: 25<br>learning_rate: 0.004350933426636407<br>epochs: 2<br>dropout: 0.14793169079348445<br>batch_size: 32\",\"<b>Arm 9_0</b><br><br>Actual Outcome: 20837.0 [nan, nan]<br>Predicted Outcome: 20583.753 [15931.571, 25235.935]<br><br><em>Parameterization:</em><br>hidden_size_1: 23<br>hidden_size_2: 85<br>learning_rate: 0.002628503936986519<br>epochs: 1<br>dropout: 0.06107937926709633<br>batch_size: 64\",\"<b>Arm 10_0</b><br><br>Actual Outcome: 31032.0 [nan, nan]<br>Predicted Outcome: 31338.522 [28457.995, 34219.050]<br><br><em>Parameterization:</em><br>hidden_size_1: 33<br>hidden_size_2: 120<br>learning_rate: 0.004245949864296547<br>epochs: 1<br>dropout: 0.19452765426241056<br>batch_size: 128\",\"<b>Arm 11_0</b><br><br>Actual Outcome: 44009.0 [nan, nan]<br>Predicted Outcome: 43883.077 [42644.707, 45121.447]<br><br><em>Parameterization:</em><br>hidden_size_1: 53<br>hidden_size_2: 39<br>learning_rate: 0.005225384637038674<br>epochs: 2<br>dropout: 0.09008009892761282<br>batch_size: 64\",\"<b>Arm 12_0</b><br><br>Actual Outcome: 40496.0 [nan, nan]<br>Predicted Outcome: 40306.009 [37843.045, 42768.973]<br><br><em>Parameterization:</em><br>hidden_size_1: 43<br>hidden_size_2: 128<br>learning_rate: 0.0017926064838767813<br>epochs: 1<br>dropout: 0.09660252828225978<br>batch_size: 256\",\"<b>Arm 13_0</b><br><br>Actual Outcome: 38618.0 [nan, nan]<br>Predicted Outcome: 39077.124 [34837.283, 43316.965]<br><br><em>Parameterization:</em><br>hidden_size_1: 48<br>hidden_size_2: 17<br>learning_rate: 0.01<br>epochs: 1<br>dropout: 0.23951458804359507<br>batch_size: 32\",\"<b>Arm 14_0</b><br><br>Actual Outcome: 35372.0 [nan, nan]<br>Predicted Outcome: 35136.035 [33674.869, 36597.200]<br><br><em>Parameterization:</em><br>hidden_size_1: 42<br>hidden_size_2: 47<br>learning_rate: 0.006772133699961381<br>epochs: 2<br>dropout: 0.08510201078722962<br>batch_size: 256\",\"<b>Arm 15_0</b><br><br>Actual Outcome: 32760.0 [nan, nan]<br>Predicted Outcome: 31706.327 [28964.788, 34447.866]<br><br><em>Parameterization:</em><br>hidden_size_1: 40<br>hidden_size_2: 28<br>learning_rate: 0.0022820468258950206<br>epochs: 3<br>dropout: 0.11004397150643774<br>batch_size: 32\",\"<b>Arm 16_0</b><br><br>Actual Outcome: 44009.0 [nan, nan]<br>Predicted Outcome: 44111.487 [42425.020, 45797.954]<br><br><em>Parameterization:</em><br>hidden_size_1: 53<br>hidden_size_2: 39<br>learning_rate: 0.002837659183241426<br>epochs: 2<br>dropout: 0.04027651585477238<br>batch_size: 32\",\"<b>Arm 17_0</b><br><br>Actual Outcome: 27566.0 [nan, nan]<br>Predicted Outcome: 27044.574 [25264.802, 28824.345]<br><br><em>Parameterization:</em><br>hidden_size_1: 32<br>hidden_size_2: 59<br>learning_rate: 0.004363761288111755<br>epochs: 3<br>dropout: 0.16909138489485928<br>batch_size: 128\",\"<b>Arm 18_0</b><br><br>Actual Outcome: 34643.0 [nan, nan]<br>Predicted Outcome: 35084.068 [32789.597, 37378.538]<br><br><em>Parameterization:</em><br>hidden_size_1: 41<br>hidden_size_2: 49<br>learning_rate: 0.002729593599876776<br>epochs: 1<br>dropout: 0.0<br>batch_size: 256\",\"<b>Arm 19_0</b><br><br>Actual Outcome: 46497.0 [nan, nan]<br>Predicted Outcome: 46365.596 [44466.414, 48264.778]<br><br><em>Parameterization:</em><br>hidden_size_1: 57<br>hidden_size_2: 27<br>learning_rate: 0.002784531341964584<br>epochs: 3<br>dropout: 0.10870606861702152<br>batch_size: 64\",\"<b>Arm 20_0</b><br><br>Actual Outcome: 39928.0 [nan, nan]<br>Predicted Outcome: 39950.524 [39442.385, 40458.663]<br><br><em>Parameterization:</em><br>hidden_size_1: 46<br>hidden_size_2: 69<br>learning_rate: 0.00350793125863134<br>epochs: 3<br>dropout: 0.16452356200290869<br>batch_size: 256\",\"<b>Arm 21_0</b><br><br>Actual Outcome: 25534.0 [nan, nan]<br>Predicted Outcome: 26208.788 [23199.781, 29217.794]<br><br><em>Parameterization:</em><br>hidden_size_1: 31<br>hidden_size_2: 30<br>learning_rate: 0.006155673760960595<br>epochs: 3<br>dropout: 0.05595837260580259<br>batch_size: 128\",\"<b>Arm 22_0</b><br><br>Actual Outcome: 39698.0 [nan, nan]<br>Predicted Outcome: 40183.089 [38564.311, 41801.867]<br><br><em>Parameterization:</em><br>hidden_size_1: 47<br>hidden_size_2: 50<br>learning_rate: 0.007225891127178984<br>epochs: 3<br>dropout: 0.23180749133005782<br>batch_size: 256\",\"<b>Arm 23_0</b><br><br>Actual Outcome: 45232.0 [nan, nan]<br>Predicted Outcome: 45251.436 [43815.194, 46687.679]<br><br><em>Parameterization:</em><br>hidden_size_1: 52<br>hidden_size_2: 72<br>learning_rate: 0.002798179138056188<br>epochs: 2<br>dropout: 0.14503056080703147<br>batch_size: 256\",\"<b>Arm 24_0</b><br><br>Actual Outcome: 29785.0 [nan, nan]<br>Predicted Outcome: 30022.723 [28245.389, 31800.056]<br><br><em>Parameterization:</em><br>hidden_size_1: 33<br>hidden_size_2: 91<br>learning_rate: 0.0033679541540761024<br>epochs: 3<br>dropout: 0.09945665618720774<br>batch_size: 256\",\"<b>Arm 25_0</b><br><br>Actual Outcome: 46880.0 [nan, nan]<br>Predicted Outcome: 46837.346 [46301.530, 47373.163]<br><br><em>Parameterization:</em><br>hidden_size_1: 54<br>hidden_size_2: 71<br>learning_rate: 0.002772015264563267<br>epochs: 3<br>dropout: 0.16672305109441052<br>batch_size: 128\",\"<b>Arm 26_0</b><br><br>Actual Outcome: 35892.0 [nan, nan]<br>Predicted Outcome: 35689.683 [34692.153, 36687.213]<br><br><em>Parameterization:</em><br>hidden_size_1: 42<br>hidden_size_2: 57<br>learning_rate: 0.0024315337698167833<br>epochs: 3<br>dropout: 0.19474503551564407<br>batch_size: 256\",\"<b>Arm 27_0</b><br><br>Actual Outcome: 41552.0 [nan, nan]<br>Predicted Outcome: 41600.741 [40444.833, 42756.650]<br><br><em>Parameterization:</em><br>hidden_size_1: 46<br>hidden_size_2: 98<br>learning_rate: 0.006049018833553533<br>epochs: 3<br>dropout: 0.13709920202400355<br>batch_size: 256\",\"<b>Arm 28_0</b><br><br>Actual Outcome: 42149.0 [nan, nan]<br>Predicted Outcome: 42056.814 [41257.619, 42856.008]<br><br><em>Parameterization:</em><br>hidden_size_1: 47<br>hidden_size_2: 93<br>learning_rate: 0.0018303290821920122<br>epochs: 3<br>dropout: 0.08922284620729605<br>batch_size: 128\",\"<b>Arm 29_0</b><br><br>Actual Outcome: 52990.0 [nan, nan]<br>Predicted Outcome: 52541.72 [50841.291, 54242.149]<br><br><em>Parameterization:</em><br>hidden_size_1: 60<br>hidden_size_2: 85<br>learning_rate: 0.00539443174947917<br>epochs: 3<br>dropout: 0.12865895369245992<br>batch_size: 128\",\"<b>Arm 30_0</b><br><br>Actual Outcome: 23732.0 [nan, nan]<br>Predicted Outcome: 23209.075 [21138.557, 25279.594]<br><br><em>Parameterization:</em><br>hidden_size_1: 26<br>hidden_size_2: 93<br>learning_rate: 0.0010940926056826755<br>epochs: 4<br>dropout: 0.06093513841124719<br>batch_size: 128\",\"<b>Arm 31_0</b><br><br>Actual Outcome: 44240.0 [nan, nan]<br>Predicted Outcome: 44145.899 [43462.281, 44829.517]<br><br><em>Parameterization:</em><br>hidden_size_1: 50<br>hidden_size_2: 84<br>learning_rate: 0.0019538650031968707<br>epochs: 3<br>dropout: 0.17482033724912127<br>batch_size: 128\",\"<b>Arm 32_0</b><br><br>Actual Outcome: 36173.0 [nan, nan]<br>Predicted Outcome: 36325.499 [35577.846, 37073.152]<br><br><em>Parameterization:</em><br>hidden_size_1: 41<br>hidden_size_2: 79<br>learning_rate: 0.002648680531166817<br>epochs: 3<br>dropout: 0.12367523348987207<br>batch_size: 128\",\"<b>Arm 33_0</b><br><br>Actual Outcome: 35410.0 [nan, nan]<br>Predicted Outcome: 35458.174 [34524.237, 36392.112]<br><br><em>Parameterization:</em><br>hidden_size_1: 40<br>hidden_size_2: 81<br>learning_rate: 0.0009979208885641613<br>epochs: 4<br>dropout: 0.11526085100574014<br>batch_size: 64\",\"<b>Arm 34_0</b><br><br>Actual Outcome: 18710.0 [nan, nan]<br>Predicted Outcome: 19777.199 [15933.268, 23621.130]<br><br><em>Parameterization:</em><br>hidden_size_1: 20<br>hidden_size_2: 101<br>learning_rate: 0.002038626116246448<br>epochs: 4<br>dropout: 0.10913020356854687<br>batch_size: 128\",\"<b>Arm 35_0</b><br><br>Actual Outcome: 51940.0 [nan, nan]<br>Predicted Outcome: 52590.094 [51360.215, 53819.972]<br><br><em>Parameterization:</em><br>hidden_size_1: 60<br>hidden_size_2: 70<br>learning_rate: 0.001590451581970858<br>epochs: 3<br>dropout: 0.13605753732320264<br>batch_size: 128\",\"<b>Arm 36_0</b><br><br>Actual Outcome: 44120.0 [nan, nan]<br>Predicted Outcome: 44168.051 [42876.386, 45459.717]<br><br><em>Parameterization:</em><br>hidden_size_1: 50<br>hidden_size_2: 82<br>learning_rate: 0.0010268320765114054<br>epochs: 4<br>dropout: 0.10210561054102789<br>batch_size: 128\",\"<b>Arm 37_0</b><br><br>Actual Outcome: 27912.0 [nan, nan]<br>Predicted Outcome: 27969.876 [26557.641, 29382.111]<br><br><em>Parameterization:</em><br>hidden_size_1: 31<br>hidden_size_2: 88<br>learning_rate: 0.0005489248238608655<br>epochs: 4<br>dropout: 0.041998030049184086<br>batch_size: 32\",\"<b>Arm 38_0</b><br><br>Actual Outcome: 44639.0 [nan, nan]<br>Predicted Outcome: 45345.454 [42753.355, 47937.552]<br><br><em>Parameterization:</em><br>hidden_size_1: 53<br>hidden_size_2: 49<br>learning_rate: 0.0004259949381473743<br>epochs: 4<br>dropout: 0.12375317521500247<br>batch_size: 32\",\"<b>Arm 39_0</b><br><br>Actual Outcome: 31628.0 [nan, nan]<br>Predicted Outcome: 31709.041 [29979.706, 33438.375]<br><br><em>Parameterization:</em><br>hidden_size_1: 34<br>hidden_size_2: 113<br>learning_rate: 0.0012848059245821174<br>epochs: 4<br>dropout: 0.159982570212143<br>batch_size: 128\",\"<b>Arm 40_0</b><br><br>Actual Outcome: 41220.0 [nan, nan]<br>Predicted Outcome: 40793.796 [39108.546, 42479.047]<br><br><em>Parameterization:</em><br>hidden_size_1: 45<br>hidden_size_2: 108<br>learning_rate: 0.00044147059335426423<br>epochs: 4<br>dropout: 0.057307727797324064<br>batch_size: 64\",\"<b>Arm 41_0</b><br><br>Actual Outcome: 19712.0 [nan, nan]<br>Predicted Outcome: 20061.896 [15747.994, 24375.799]<br><br><em>Parameterization:</em><br>hidden_size_1: 22<br>hidden_size_2: 77<br>learning_rate: 0.0003989276365812258<br>epochs: 4<br>dropout: 0.1432906720190824<br>batch_size: 32\",\"<b>Arm 42_0</b><br><br>Actual Outcome: 36568.0 [nan, nan]<br>Predicted Outcome: 36708.259 [35660.516, 37756.003]<br><br><em>Parameterization:</em><br>hidden_size_1: 42<br>hidden_size_2: 70<br>learning_rate: 0.0005856646049078795<br>epochs: 4<br>dropout: 0.0<br>batch_size: 32\",\"<b>Arm 43_0</b><br><br>Actual Outcome: 31950.0 [nan, nan]<br>Predicted Outcome: 31877.117 [30014.330, 33739.904]<br><br><em>Parameterization:</em><br>hidden_size_1: 36<br>hidden_size_2: 81<br>learning_rate: 0.0005137184947408184<br>epochs: 4<br>dropout: 0.16660182769823986<br>batch_size: 32\",\"<b>Arm 44_0</b><br><br>Actual Outcome: 31408.0 [nan, nan]<br>Predicted Outcome: 31472.91 [29605.858, 33339.961]<br><br><em>Parameterization:</em><br>hidden_size_1: 34<br>hidden_size_2: 108<br>learning_rate: 0.001265315859699169<br>epochs: 4<br>dropout: 0.046803229351878396<br>batch_size: 32\",\"<b>Arm 45_0</b><br><br>Actual Outcome: 41066.0 [nan, nan]<br>Predicted Outcome: 40990.833 [39855.408, 42126.259]<br><br><em>Parameterization:</em><br>hidden_size_1: 47<br>hidden_size_2: 74<br>learning_rate: 0.000757321780001632<br>epochs: 4<br>dropout: 0.0008842295315079395<br>batch_size: 32\"],\"visible\":true,\"x\":[21284.0,74901.0,66808.0,31490.0,22864.0,103678.0,101240.0,17444.0,47172.0,20837.0,31032.0,44009.0,40496.0,38618.0,35372.0,32760.0,44009.0,27566.0,34643.0,46497.0,39928.0,25534.0,39698.0,45232.0,29785.0,46880.0,35892.0,41552.0,42149.0,52990.0,23732.0,44240.0,36173.0,35410.0,18710.0,51940.0,44120.0,27912.0,44639.0,31628.0,41220.0,19712.0,36568.0,31950.0,31408.0,41066.0],\"y\":[24126.529135677505,72523.00967691903,66604.2715212875,31343.094889408425,23530.683074500976,100436.3518509434,100990.90553670994,18636.665478667248,47420.892466796635,20583.75318716944,31338.522363222917,43883.077227011585,40306.00912033351,39077.12433782425,35136.034794752,31706.32701030137,44111.487176274364,27044.57380109968,35084.06762570492,46365.59604189786,39950.524356496935,26208.78769259707,40183.08925785079,45251.43635604105,30022.722528035967,46837.34647543876,35689.68287496496,41600.74134327774,42056.813585565185,52541.720017288004,23209.075415442745,44145.89893299334,36325.49915719369,35458.17415005417,19777.199219202615,52590.0936812041,44168.05128480595,27969.875856791623,45345.45353569024,31709.04065642619,40793.796457810015,20061.896429803033,36708.25930620964,31877.11733814605,31472.90966722802,40990.83330755556],\"type\":\"scatter\"},{\"hoverinfo\":\"none\",\"line\":{\"color\":\"black\",\"dash\":\"dot\",\"width\":2},\"mode\":\"lines\",\"showlegend\":false,\"visible\":false,\"x\":[0.8513345848385828,0.9805158089964605],\"y\":[0.8513345848385828,0.9805158089964605],\"type\":\"scatter\"},{\"error_x\":{\"array\":[null,null,null,null,null,null,null,null,null,null,null,null,null,null,null,null,null,null,null,null,null,null,null,null,null,null,null,null,null,null,null,null,null,null,null,null,null,null,null,null,null,null,null,null,null,null],\"color\":\"rgba(128,177,211,0.4)\",\"type\":\"data\"},\"error_y\":{\"array\":[0.02527726607148607,0.01989407536105862,0.019697580781142945,0.00906484385817697,0.019628812745897138,0.018781636053946303,0.019271801999268253,0.02227605334517143,0.010863413224082706,0.015344465513123807,0.013682266779282531,0.007984813771980688,0.012435393971875295,0.019537376547848304,0.01062055862890589,0.012470705320006563,0.010190653613628555,0.008561445512052492,0.014690618494627066,0.011665571716593551,0.004009497323464117,0.014393117254405684,0.009428765334432997,0.010721466428225634,0.008597688832556866,0.003598300751113538,0.006162304135534824,0.007318439322629699,0.005708829829630886,0.007921780314771797,0.008547128246987631,0.004659838604397613,0.004419344811413622,0.005652906699374881,0.0121775660203342,0.006222211579686924,0.008796993544421525,0.006243233163275891,0.011726888277639373,0.009270777075565662,0.009858241948560928,0.013270912309300345,0.005030533610872275,0.00834369126307125,0.008889135051998887,0.0056678124279494315],\"color\":\"rgba(128,177,211,0.4)\",\"type\":\"data\"},\"hoverinfo\":\"text\",\"marker\":{\"color\":\"rgba(128,177,211,1)\"},\"mode\":\"markers\",\"name\":\"In-sample\",\"showlegend\":true,\"text\":[\"<b>Arm 0_0</b><br><br>Actual Outcome: 0.855 [nan, nan]<br>Predicted Outcome: 0.93 [0.904, 0.955]<br><br><em>Parameterization:</em><br>hidden_size_1: 26<br>hidden_size_2: 25<br>learning_rate: 0.0001434767824236491<br>epochs: 2<br>dropout: 0.33112940192222595<br>batch_size: 256\",\"<b>Arm 1_0</b><br><br>Actual Outcome: 0.956 [nan, nan]<br>Predicted Outcome: 0.948 [0.928, 0.968]<br><br><em>Parameterization:</em><br>hidden_size_1: 87<br>hidden_size_2: 69<br>learning_rate: 0.0029053224531863106<br>epochs: 3<br>dropout: 0.3739301706664264<br>batch_size: 256\",\"<b>Arm 2_0</b><br><br>Actual Outcome: 0.942 [nan, nan]<br>Predicted Outcome: 0.951 [0.932, 0.971]<br><br><em>Parameterization:</em><br>hidden_size_1: 76<br>hidden_size_2: 84<br>learning_rate: 0.002605222277356922<br>epochs: 2<br>dropout: 0.2766162846237421<br>batch_size: 32\",\"<b>Arm 3_0</b><br><br>Actual Outcome: 0.939 [nan, nan]<br>Predicted Outcome: 0.93 [0.921, 0.939]<br><br><em>Parameterization:</em><br>hidden_size_1: 35<br>hidden_size_2: 90<br>learning_rate: 0.0017176423492511292<br>epochs: 1<br>dropout: 0.08004654245451093<br>batch_size: 128\",\"<b>Arm 4_0</b><br><br>Actual Outcome: 0.922 [nan, nan]<br>Predicted Outcome: 0.913 [0.893, 0.932]<br><br><em>Parameterization:</em><br>hidden_size_1: 28<br>hidden_size_2: 24<br>learning_rate: 0.0023618357341640183<br>epochs: 1<br>dropout: 0.05532363662496209<br>batch_size: 32\",\"<b>Arm 5_0</b><br><br>Actual Outcome: 0.952 [nan, nan]<br>Predicted Outcome: 0.958 [0.939, 0.976]<br><br><em>Parameterization:</em><br>hidden_size_1: 127<br>hidden_size_2: 30<br>learning_rate: 0.000211731167925127<br>epochs: 3<br>dropout: 0.09538744669407606<br>batch_size: 64\",\"<b>Arm 6_0</b><br><br>Actual Outcome: 0.964 [nan, nan]<br>Predicted Outcome: 0.948 [0.929, 0.968]<br><br><em>Parameterization:</em><br>hidden_size_1: 125<br>hidden_size_2: 24<br>learning_rate: 0.00018640865242917963<br>epochs: 4<br>dropout: 0.09939862927421927<br>batch_size: 32\",\"<b>Arm 7_0</b><br><br>Actual Outcome: 0.919 [nan, nan]<br>Predicted Outcome: 0.925 [0.902, 0.947]<br><br><em>Parameterization:</em><br>hidden_size_1: 18<br>hidden_size_2: 119<br>learning_rate: 0.0009363742269194095<br>epochs: 2<br>dropout: 0.31237895181402564<br>batch_size: 128\",\"<b>Arm 8_0</b><br><br>Actual Outcome: 0.95 [nan, nan]<br>Predicted Outcome: 0.938 [0.927, 0.949]<br><br><em>Parameterization:</em><br>hidden_size_1: 58<br>hidden_size_2: 25<br>learning_rate: 0.004350933426636407<br>epochs: 2<br>dropout: 0.14793169079348445<br>batch_size: 32\",\"<b>Arm 9_0</b><br><br>Actual Outcome: 0.91 [nan, nan]<br>Predicted Outcome: 0.929 [0.914, 0.945]<br><br><em>Parameterization:</em><br>hidden_size_1: 23<br>hidden_size_2: 85<br>learning_rate: 0.002628503936986519<br>epochs: 1<br>dropout: 0.06107937926709633<br>batch_size: 64\",\"<b>Arm 10_0</b><br><br>Actual Outcome: 0.932 [nan, nan]<br>Predicted Outcome: 0.933 [0.920, 0.947]<br><br><em>Parameterization:</em><br>hidden_size_1: 33<br>hidden_size_2: 120<br>learning_rate: 0.004245949864296547<br>epochs: 1<br>dropout: 0.19452765426241056<br>batch_size: 128\",\"<b>Arm 11_0</b><br><br>Actual Outcome: 0.949 [nan, nan]<br>Predicted Outcome: 0.951 [0.943, 0.959]<br><br><em>Parameterization:</em><br>hidden_size_1: 53<br>hidden_size_2: 39<br>learning_rate: 0.005225384637038674<br>epochs: 2<br>dropout: 0.09008009892761282<br>batch_size: 64\",\"<b>Arm 12_0</b><br><br>Actual Outcome: 0.943 [nan, nan]<br>Predicted Outcome: 0.945 [0.933, 0.958]<br><br><em>Parameterization:</em><br>hidden_size_1: 43<br>hidden_size_2: 128<br>learning_rate: 0.0017926064838767813<br>epochs: 1<br>dropout: 0.09660252828225978<br>batch_size: 256\",\"<b>Arm 13_0</b><br><br>Actual Outcome: 0.888 [nan, nan]<br>Predicted Outcome: 0.936 [0.917, 0.956]<br><br><em>Parameterization:</em><br>hidden_size_1: 48<br>hidden_size_2: 17<br>learning_rate: 0.01<br>epochs: 1<br>dropout: 0.23951458804359507<br>batch_size: 32\",\"<b>Arm 14_0</b><br><br>Actual Outcome: 0.95 [nan, nan]<br>Predicted Outcome: 0.943 [0.932, 0.954]<br><br><em>Parameterization:</em><br>hidden_size_1: 42<br>hidden_size_2: 47<br>learning_rate: 0.006772133699961381<br>epochs: 2<br>dropout: 0.08510201078722962<br>batch_size: 256\",\"<b>Arm 15_0</b><br><br>Actual Outcome: 0.948 [nan, nan]<br>Predicted Outcome: 0.948 [0.935, 0.960]<br><br><em>Parameterization:</em><br>hidden_size_1: 40<br>hidden_size_2: 28<br>learning_rate: 0.0022820468258950206<br>epochs: 3<br>dropout: 0.11004397150643774<br>batch_size: 32\",\"<b>Arm 16_0</b><br><br>Actual Outcome: 0.949 [nan, nan]<br>Predicted Outcome: 0.95 [0.939, 0.960]<br><br><em>Parameterization:</em><br>hidden_size_1: 53<br>hidden_size_2: 39<br>learning_rate: 0.002837659183241426<br>epochs: 2<br>dropout: 0.04027651585477238<br>batch_size: 32\",\"<b>Arm 17_0</b><br><br>Actual Outcome: 0.949 [nan, nan]<br>Predicted Outcome: 0.947 [0.938, 0.955]<br><br><em>Parameterization:</em><br>hidden_size_1: 32<br>hidden_size_2: 59<br>learning_rate: 0.004363761288111755<br>epochs: 3<br>dropout: 0.16909138489485928<br>batch_size: 128\",\"<b>Arm 18_0</b><br><br>Actual Outcome: 0.932 [nan, nan]<br>Predicted Outcome: 0.942 [0.928, 0.957]<br><br><em>Parameterization:</em><br>hidden_size_1: 41<br>hidden_size_2: 49<br>learning_rate: 0.002729593599876776<br>epochs: 1<br>dropout: 0.0<br>batch_size: 256\",\"<b>Arm 19_0</b><br><br>Actual Outcome: 0.951 [nan, nan]<br>Predicted Outcome: 0.955 [0.944, 0.967]<br><br><em>Parameterization:</em><br>hidden_size_1: 57<br>hidden_size_2: 27<br>learning_rate: 0.002784531341964584<br>epochs: 3<br>dropout: 0.10870606861702152<br>batch_size: 64\",\"<b>Arm 20_0</b><br><br>Actual Outcome: 0.959 [nan, nan]<br>Predicted Outcome: 0.957 [0.953, 0.961]<br><br><em>Parameterization:</em><br>hidden_size_1: 46<br>hidden_size_2: 69<br>learning_rate: 0.00350793125863134<br>epochs: 3<br>dropout: 0.16452356200290869<br>batch_size: 256\",\"<b>Arm 21_0</b><br><br>Actual Outcome: 0.936 [nan, nan]<br>Predicted Outcome: 0.942 [0.927, 0.956]<br><br><em>Parameterization:</em><br>hidden_size_1: 31<br>hidden_size_2: 30<br>learning_rate: 0.006155673760960595<br>epochs: 3<br>dropout: 0.05595837260580259<br>batch_size: 128\",\"<b>Arm 22_0</b><br><br>Actual Outcome: 0.952 [nan, nan]<br>Predicted Outcome: 0.951 [0.942, 0.961]<br><br><em>Parameterization:</em><br>hidden_size_1: 47<br>hidden_size_2: 50<br>learning_rate: 0.007225891127178984<br>epochs: 3<br>dropout: 0.23180749133005782<br>batch_size: 256\",\"<b>Arm 23_0</b><br><br>Actual Outcome: 0.957 [nan, nan]<br>Predicted Outcome: 0.955 [0.944, 0.966]<br><br><em>Parameterization:</em><br>hidden_size_1: 52<br>hidden_size_2: 72<br>learning_rate: 0.002798179138056188<br>epochs: 2<br>dropout: 0.14503056080703147<br>batch_size: 256\",\"<b>Arm 24_0</b><br><br>Actual Outcome: 0.954 [nan, nan]<br>Predicted Outcome: 0.952 [0.943, 0.961]<br><br><em>Parameterization:</em><br>hidden_size_1: 33<br>hidden_size_2: 91<br>learning_rate: 0.0033679541540761024<br>epochs: 3<br>dropout: 0.09945665618720774<br>batch_size: 256\",\"<b>Arm 25_0</b><br><br>Actual Outcome: 0.964 [nan, nan]<br>Predicted Outcome: 0.96 [0.957, 0.964]<br><br><em>Parameterization:</em><br>hidden_size_1: 54<br>hidden_size_2: 71<br>learning_rate: 0.002772015264563267<br>epochs: 3<br>dropout: 0.16672305109441052<br>batch_size: 128\",\"<b>Arm 26_0</b><br><br>Actual Outcome: 0.951 [nan, nan]<br>Predicted Outcome: 0.957 [0.951, 0.963]<br><br><em>Parameterization:</em><br>hidden_size_1: 42<br>hidden_size_2: 57<br>learning_rate: 0.0024315337698167833<br>epochs: 3<br>dropout: 0.19474503551564407<br>batch_size: 256\",\"<b>Arm 27_0</b><br><br>Actual Outcome: 0.956 [nan, nan]<br>Predicted Outcome: 0.957 [0.950, 0.964]<br><br><em>Parameterization:</em><br>hidden_size_1: 46<br>hidden_size_2: 98<br>learning_rate: 0.006049018833553533<br>epochs: 3<br>dropout: 0.13709920202400355<br>batch_size: 256\",\"<b>Arm 28_0</b><br><br>Actual Outcome: 0.962 [nan, nan]<br>Predicted Outcome: 0.961 [0.955, 0.966]<br><br><em>Parameterization:</em><br>hidden_size_1: 47<br>hidden_size_2: 93<br>learning_rate: 0.0018303290821920122<br>epochs: 3<br>dropout: 0.08922284620729605<br>batch_size: 128\",\"<b>Arm 29_0</b><br><br>Actual Outcome: 0.954 [nan, nan]<br>Predicted Outcome: 0.961 [0.953, 0.968]<br><br><em>Parameterization:</em><br>hidden_size_1: 60<br>hidden_size_2: 85<br>learning_rate: 0.00539443174947917<br>epochs: 3<br>dropout: 0.12865895369245992<br>batch_size: 128\",\"<b>Arm 30_0</b><br><br>Actual Outcome: 0.955 [nan, nan]<br>Predicted Outcome: 0.955 [0.947, 0.964]<br><br><em>Parameterization:</em><br>hidden_size_1: 26<br>hidden_size_2: 93<br>learning_rate: 0.0010940926056826755<br>epochs: 4<br>dropout: 0.06093513841124719<br>batch_size: 128\",\"<b>Arm 31_0</b><br><br>Actual Outcome: 0.963 [nan, nan]<br>Predicted Outcome: 0.963 [0.958, 0.967]<br><br><em>Parameterization:</em><br>hidden_size_1: 50<br>hidden_size_2: 84<br>learning_rate: 0.0019538650031968707<br>epochs: 3<br>dropout: 0.17482033724912127<br>batch_size: 128\",\"<b>Arm 32_0</b><br><br>Actual Outcome: 0.959 [nan, nan]<br>Predicted Outcome: 0.96 [0.956, 0.964]<br><br><em>Parameterization:</em><br>hidden_size_1: 41<br>hidden_size_2: 79<br>learning_rate: 0.002648680531166817<br>epochs: 3<br>dropout: 0.12367523348987207<br>batch_size: 128\",\"<b>Arm 33_0</b><br><br>Actual Outcome: 0.963 [nan, nan]<br>Predicted Outcome: 0.964 [0.958, 0.969]<br><br><em>Parameterization:</em><br>hidden_size_1: 40<br>hidden_size_2: 81<br>learning_rate: 0.0009979208885641613<br>epochs: 4<br>dropout: 0.11526085100574014<br>batch_size: 64\",\"<b>Arm 34_0</b><br><br>Actual Outcome: 0.947 [nan, nan]<br>Predicted Outcome: 0.946 [0.934, 0.958]<br><br><em>Parameterization:</em><br>hidden_size_1: 20<br>hidden_size_2: 101<br>learning_rate: 0.002038626116246448<br>epochs: 4<br>dropout: 0.10913020356854687<br>batch_size: 128\",\"<b>Arm 35_0</b><br><br>Actual Outcome: 0.962 [nan, nan]<br>Predicted Outcome: 0.963 [0.957, 0.969]<br><br><em>Parameterization:</em><br>hidden_size_1: 60<br>hidden_size_2: 70<br>learning_rate: 0.001590451581970858<br>epochs: 3<br>dropout: 0.13605753732320264<br>batch_size: 128\",\"<b>Arm 36_0</b><br><br>Actual Outcome: 0.963 [nan, nan]<br>Predicted Outcome: 0.96 [0.952, 0.969]<br><br><em>Parameterization:</em><br>hidden_size_1: 50<br>hidden_size_2: 82<br>learning_rate: 0.0010268320765114054<br>epochs: 4<br>dropout: 0.10210561054102789<br>batch_size: 128\",\"<b>Arm 37_0</b><br><br>Actual Outcome: 0.961 [nan, nan]<br>Predicted Outcome: 0.961 [0.955, 0.968]<br><br><em>Parameterization:</em><br>hidden_size_1: 31<br>hidden_size_2: 88<br>learning_rate: 0.0005489248238608655<br>epochs: 4<br>dropout: 0.041998030049184086<br>batch_size: 32\",\"<b>Arm 38_0</b><br><br>Actual Outcome: 0.963 [nan, nan]<br>Predicted Outcome: 0.961 [0.949, 0.973]<br><br><em>Parameterization:</em><br>hidden_size_1: 53<br>hidden_size_2: 49<br>learning_rate: 0.0004259949381473743<br>epochs: 4<br>dropout: 0.12375317521500247<br>batch_size: 32\",\"<b>Arm 39_0</b><br><br>Actual Outcome: 0.96 [nan, nan]<br>Predicted Outcome: 0.958 [0.949, 0.968]<br><br><em>Parameterization:</em><br>hidden_size_1: 34<br>hidden_size_2: 113<br>learning_rate: 0.0012848059245821174<br>epochs: 4<br>dropout: 0.159982570212143<br>batch_size: 128\",\"<b>Arm 40_0</b><br><br>Actual Outcome: 0.961 [nan, nan]<br>Predicted Outcome: 0.963 [0.953, 0.973]<br><br><em>Parameterization:</em><br>hidden_size_1: 45<br>hidden_size_2: 108<br>learning_rate: 0.00044147059335426423<br>epochs: 4<br>dropout: 0.057307727797324064<br>batch_size: 64\",\"<b>Arm 41_0</b><br><br>Actual Outcome: 0.947 [nan, nan]<br>Predicted Outcome: 0.949 [0.936, 0.963]<br><br><em>Parameterization:</em><br>hidden_size_1: 22<br>hidden_size_2: 77<br>learning_rate: 0.0003989276365812258<br>epochs: 4<br>dropout: 0.1432906720190824<br>batch_size: 32\",\"<b>Arm 42_0</b><br><br>Actual Outcome: 0.966 [nan, nan]<br>Predicted Outcome: 0.959 [0.954, 0.964]<br><br><em>Parameterization:</em><br>hidden_size_1: 42<br>hidden_size_2: 70<br>learning_rate: 0.0005856646049078795<br>epochs: 4<br>dropout: 0.0<br>batch_size: 32\",\"<b>Arm 43_0</b><br><br>Actual Outcome: 0.96 [nan, nan]<br>Predicted Outcome: 0.96 [0.952, 0.969]<br><br><em>Parameterization:</em><br>hidden_size_1: 36<br>hidden_size_2: 81<br>learning_rate: 0.0005137184947408184<br>epochs: 4<br>dropout: 0.16660182769823986<br>batch_size: 32\",\"<b>Arm 44_0</b><br><br>Actual Outcome: 0.961 [nan, nan]<br>Predicted Outcome: 0.958 [0.949, 0.967]<br><br><em>Parameterization:</em><br>hidden_size_1: 34<br>hidden_size_2: 108<br>learning_rate: 0.001265315859699169<br>epochs: 4<br>dropout: 0.046803229351878396<br>batch_size: 32\",\"<b>Arm 45_0</b><br><br>Actual Outcome: 0.957 [nan, nan]<br>Predicted Outcome: 0.965 [0.959, 0.971]<br><br><em>Parameterization:</em><br>hidden_size_1: 47<br>hidden_size_2: 74<br>learning_rate: 0.000757321780001632<br>epochs: 4<br>dropout: 0.0008842295315079395<br>batch_size: 32\"],\"visible\":false,\"x\":[0.8554999828338623,0.9562000036239624,0.9422000050544739,0.9387999773025513,0.9215999841690063,0.9524000287055969,0.9642000198364258,0.9186999797821045,0.9495999813079834,0.9101999998092651,0.9323999881744385,0.9488000273704529,0.9433000087738037,0.8881999850273132,0.9501000046730042,0.947700023651123,0.9488999843597412,0.9488000273704529,0.9315000176429749,0.9513999819755554,0.9587000012397766,0.9358999729156494,0.9520000219345093,0.9574000239372253,0.9535999894142151,0.9641000032424927,0.9513000249862671,0.9557999968528748,0.9617999792098999,0.9539999961853027,0.9546999931335449,0.9627000093460083,0.9585000276565552,0.9629999995231628,0.9474999904632568,0.9623000025749207,0.963100016117096,0.9607999920845032,0.9625999927520752,0.9595999717712402,0.9606999754905701,0.9473000168800354,0.9656999707221985,0.9599000215530396,0.9613000154495239,0.9573000073432922],\"y\":[0.9297597685103204,0.9481404422630552,0.9512153332900843,0.9298179252880134,0.9126712638414889,0.9575687749472347,0.9482868792352712,0.9245878352618981,0.9377667655060594,0.9294514830250711,0.9332273812247102,0.9507609297111973,0.9453240223887492,0.9364230838765321,0.9429187397964596,0.9478415191981349,0.9496662066419956,0.9465190937779737,0.9422830123053461,0.9554696066931819,0.9570806162980815,0.9416429569871907,0.9514679319746039,0.955205450539639,0.9519069140406269,0.9603471843212771,0.9567166325233668,0.9568352398211344,0.9607826041173834,0.9605146712489195,0.9553075279469243,0.9625551450944491,0.9599223521585021,0.9636312114546052,0.9462342008365004,0.9630311318026068,0.9603519162242286,0.961316677167481,0.960899959217801,0.9583896090227247,0.9626806922097839,0.9493390340014867,0.958635094147538,0.9602735577310465,0.9580607416113107,0.964960130015504],\"type\":\"scatter\"}],                        {\"annotations\":[{\"showarrow\":false,\"text\":\"Show CI\",\"x\":1.125,\"xanchor\":\"left\",\"xref\":\"paper\",\"y\":0.9,\"yanchor\":\"middle\",\"yref\":\"paper\"}],\"height\":500,\"hovermode\":\"closest\",\"showlegend\":false,\"updatemenus\":[{\"buttons\":[{\"args\":[{\"visible\":[true,true,false,false]},{\"xaxis.range\":[6991.768534210013,110772.89023231706],\"yaxis.range\":[6991.768534210013,110772.89023231706]}],\"label\":\"num_params\",\"method\":\"update\"},{\"args\":[{\"visible\":[false,false,true,true]},{\"xaxis.range\":[0.8888770531003123,0.9805158089964605],\"yaxis.range\":[0.8888770531003123,0.9805158089964605]}],\"label\":\"val_acc\",\"method\":\"update\"}],\"x\":0,\"xanchor\":\"left\",\"y\":1.125,\"yanchor\":\"top\"},{\"buttons\":[{\"args\":[{\"error_x.width\":4,\"error_x.thickness\":2,\"error_y.width\":4,\"error_y.thickness\":2}],\"label\":\"Yes\",\"method\":\"restyle\"},{\"args\":[{\"error_x.width\":0,\"error_x.thickness\":0,\"error_y.width\":0,\"error_y.thickness\":0}],\"label\":\"No\",\"method\":\"restyle\"}],\"x\":1.125,\"xanchor\":\"left\",\"y\":0.8,\"yanchor\":\"middle\"}],\"width\":530,\"xaxis\":{\"linecolor\":\"black\",\"linewidth\":0.5,\"mirror\":true,\"range\":[6991.768534210013,110772.89023231706],\"title\":{\"text\":\"Actual Outcome\"},\"zeroline\":false},\"yaxis\":{\"linecolor\":\"black\",\"linewidth\":0.5,\"mirror\":true,\"range\":[6991.768534210013,110772.89023231706],\"title\":{\"text\":\"Predicted Outcome\"},\"zeroline\":false},\"template\":{\"data\":{\"histogram2dcontour\":[{\"type\":\"histogram2dcontour\",\"colorbar\":{\"outlinewidth\":0,\"ticks\":\"\"},\"colorscale\":[[0.0,\"#0d0887\"],[0.1111111111111111,\"#46039f\"],[0.2222222222222222,\"#7201a8\"],[0.3333333333333333,\"#9c179e\"],[0.4444444444444444,\"#bd3786\"],[0.5555555555555556,\"#d8576b\"],[0.6666666666666666,\"#ed7953\"],[0.7777777777777778,\"#fb9f3a\"],[0.8888888888888888,\"#fdca26\"],[1.0,\"#f0f921\"]]}],\"choropleth\":[{\"type\":\"choropleth\",\"colorbar\":{\"outlinewidth\":0,\"ticks\":\"\"}}],\"histogram2d\":[{\"type\":\"histogram2d\",\"colorbar\":{\"outlinewidth\":0,\"ticks\":\"\"},\"colorscale\":[[0.0,\"#0d0887\"],[0.1111111111111111,\"#46039f\"],[0.2222222222222222,\"#7201a8\"],[0.3333333333333333,\"#9c179e\"],[0.4444444444444444,\"#bd3786\"],[0.5555555555555556,\"#d8576b\"],[0.6666666666666666,\"#ed7953\"],[0.7777777777777778,\"#fb9f3a\"],[0.8888888888888888,\"#fdca26\"],[1.0,\"#f0f921\"]]}],\"heatmap\":[{\"type\":\"heatmap\",\"colorbar\":{\"outlinewidth\":0,\"ticks\":\"\"},\"colorscale\":[[0.0,\"#0d0887\"],[0.1111111111111111,\"#46039f\"],[0.2222222222222222,\"#7201a8\"],[0.3333333333333333,\"#9c179e\"],[0.4444444444444444,\"#bd3786\"],[0.5555555555555556,\"#d8576b\"],[0.6666666666666666,\"#ed7953\"],[0.7777777777777778,\"#fb9f3a\"],[0.8888888888888888,\"#fdca26\"],[1.0,\"#f0f921\"]]}],\"heatmapgl\":[{\"type\":\"heatmapgl\",\"colorbar\":{\"outlinewidth\":0,\"ticks\":\"\"},\"colorscale\":[[0.0,\"#0d0887\"],[0.1111111111111111,\"#46039f\"],[0.2222222222222222,\"#7201a8\"],[0.3333333333333333,\"#9c179e\"],[0.4444444444444444,\"#bd3786\"],[0.5555555555555556,\"#d8576b\"],[0.6666666666666666,\"#ed7953\"],[0.7777777777777778,\"#fb9f3a\"],[0.8888888888888888,\"#fdca26\"],[1.0,\"#f0f921\"]]}],\"contourcarpet\":[{\"type\":\"contourcarpet\",\"colorbar\":{\"outlinewidth\":0,\"ticks\":\"\"}}],\"contour\":[{\"type\":\"contour\",\"colorbar\":{\"outlinewidth\":0,\"ticks\":\"\"},\"colorscale\":[[0.0,\"#0d0887\"],[0.1111111111111111,\"#46039f\"],[0.2222222222222222,\"#7201a8\"],[0.3333333333333333,\"#9c179e\"],[0.4444444444444444,\"#bd3786\"],[0.5555555555555556,\"#d8576b\"],[0.6666666666666666,\"#ed7953\"],[0.7777777777777778,\"#fb9f3a\"],[0.8888888888888888,\"#fdca26\"],[1.0,\"#f0f921\"]]}],\"surface\":[{\"type\":\"surface\",\"colorbar\":{\"outlinewidth\":0,\"ticks\":\"\"},\"colorscale\":[[0.0,\"#0d0887\"],[0.1111111111111111,\"#46039f\"],[0.2222222222222222,\"#7201a8\"],[0.3333333333333333,\"#9c179e\"],[0.4444444444444444,\"#bd3786\"],[0.5555555555555556,\"#d8576b\"],[0.6666666666666666,\"#ed7953\"],[0.7777777777777778,\"#fb9f3a\"],[0.8888888888888888,\"#fdca26\"],[1.0,\"#f0f921\"]]}],\"mesh3d\":[{\"type\":\"mesh3d\",\"colorbar\":{\"outlinewidth\":0,\"ticks\":\"\"}}],\"scatter\":[{\"fillpattern\":{\"fillmode\":\"overlay\",\"size\":10,\"solidity\":0.2},\"type\":\"scatter\"}],\"parcoords\":[{\"type\":\"parcoords\",\"line\":{\"colorbar\":{\"outlinewidth\":0,\"ticks\":\"\"}}}],\"scatterpolargl\":[{\"type\":\"scatterpolargl\",\"marker\":{\"colorbar\":{\"outlinewidth\":0,\"ticks\":\"\"}}}],\"bar\":[{\"error_x\":{\"color\":\"#2a3f5f\"},\"error_y\":{\"color\":\"#2a3f5f\"},\"marker\":{\"line\":{\"color\":\"#E5ECF6\",\"width\":0.5},\"pattern\":{\"fillmode\":\"overlay\",\"size\":10,\"solidity\":0.2}},\"type\":\"bar\"}],\"scattergeo\":[{\"type\":\"scattergeo\",\"marker\":{\"colorbar\":{\"outlinewidth\":0,\"ticks\":\"\"}}}],\"scatterpolar\":[{\"type\":\"scatterpolar\",\"marker\":{\"colorbar\":{\"outlinewidth\":0,\"ticks\":\"\"}}}],\"histogram\":[{\"marker\":{\"pattern\":{\"fillmode\":\"overlay\",\"size\":10,\"solidity\":0.2}},\"type\":\"histogram\"}],\"scattergl\":[{\"type\":\"scattergl\",\"marker\":{\"colorbar\":{\"outlinewidth\":0,\"ticks\":\"\"}}}],\"scatter3d\":[{\"type\":\"scatter3d\",\"line\":{\"colorbar\":{\"outlinewidth\":0,\"ticks\":\"\"}},\"marker\":{\"colorbar\":{\"outlinewidth\":0,\"ticks\":\"\"}}}],\"scattermapbox\":[{\"type\":\"scattermapbox\",\"marker\":{\"colorbar\":{\"outlinewidth\":0,\"ticks\":\"\"}}}],\"scatterternary\":[{\"type\":\"scatterternary\",\"marker\":{\"colorbar\":{\"outlinewidth\":0,\"ticks\":\"\"}}}],\"scattercarpet\":[{\"type\":\"scattercarpet\",\"marker\":{\"colorbar\":{\"outlinewidth\":0,\"ticks\":\"\"}}}],\"carpet\":[{\"aaxis\":{\"endlinecolor\":\"#2a3f5f\",\"gridcolor\":\"white\",\"linecolor\":\"white\",\"minorgridcolor\":\"white\",\"startlinecolor\":\"#2a3f5f\"},\"baxis\":{\"endlinecolor\":\"#2a3f5f\",\"gridcolor\":\"white\",\"linecolor\":\"white\",\"minorgridcolor\":\"white\",\"startlinecolor\":\"#2a3f5f\"},\"type\":\"carpet\"}],\"table\":[{\"cells\":{\"fill\":{\"color\":\"#EBF0F8\"},\"line\":{\"color\":\"white\"}},\"header\":{\"fill\":{\"color\":\"#C8D4E3\"},\"line\":{\"color\":\"white\"}},\"type\":\"table\"}],\"barpolar\":[{\"marker\":{\"line\":{\"color\":\"#E5ECF6\",\"width\":0.5},\"pattern\":{\"fillmode\":\"overlay\",\"size\":10,\"solidity\":0.2}},\"type\":\"barpolar\"}],\"pie\":[{\"automargin\":true,\"type\":\"pie\"}]},\"layout\":{\"autotypenumbers\":\"strict\",\"colorway\":[\"#636efa\",\"#EF553B\",\"#00cc96\",\"#ab63fa\",\"#FFA15A\",\"#19d3f3\",\"#FF6692\",\"#B6E880\",\"#FF97FF\",\"#FECB52\"],\"font\":{\"color\":\"#2a3f5f\"},\"hovermode\":\"closest\",\"hoverlabel\":{\"align\":\"left\"},\"paper_bgcolor\":\"white\",\"plot_bgcolor\":\"#E5ECF6\",\"polar\":{\"bgcolor\":\"#E5ECF6\",\"angularaxis\":{\"gridcolor\":\"white\",\"linecolor\":\"white\",\"ticks\":\"\"},\"radialaxis\":{\"gridcolor\":\"white\",\"linecolor\":\"white\",\"ticks\":\"\"}},\"ternary\":{\"bgcolor\":\"#E5ECF6\",\"aaxis\":{\"gridcolor\":\"white\",\"linecolor\":\"white\",\"ticks\":\"\"},\"baxis\":{\"gridcolor\":\"white\",\"linecolor\":\"white\",\"ticks\":\"\"},\"caxis\":{\"gridcolor\":\"white\",\"linecolor\":\"white\",\"ticks\":\"\"}},\"coloraxis\":{\"colorbar\":{\"outlinewidth\":0,\"ticks\":\"\"}},\"colorscale\":{\"sequential\":[[0.0,\"#0d0887\"],[0.1111111111111111,\"#46039f\"],[0.2222222222222222,\"#7201a8\"],[0.3333333333333333,\"#9c179e\"],[0.4444444444444444,\"#bd3786\"],[0.5555555555555556,\"#d8576b\"],[0.6666666666666666,\"#ed7953\"],[0.7777777777777778,\"#fb9f3a\"],[0.8888888888888888,\"#fdca26\"],[1.0,\"#f0f921\"]],\"sequentialminus\":[[0.0,\"#0d0887\"],[0.1111111111111111,\"#46039f\"],[0.2222222222222222,\"#7201a8\"],[0.3333333333333333,\"#9c179e\"],[0.4444444444444444,\"#bd3786\"],[0.5555555555555556,\"#d8576b\"],[0.6666666666666666,\"#ed7953\"],[0.7777777777777778,\"#fb9f3a\"],[0.8888888888888888,\"#fdca26\"],[1.0,\"#f0f921\"]],\"diverging\":[[0,\"#8e0152\"],[0.1,\"#c51b7d\"],[0.2,\"#de77ae\"],[0.3,\"#f1b6da\"],[0.4,\"#fde0ef\"],[0.5,\"#f7f7f7\"],[0.6,\"#e6f5d0\"],[0.7,\"#b8e186\"],[0.8,\"#7fbc41\"],[0.9,\"#4d9221\"],[1,\"#276419\"]]},\"xaxis\":{\"gridcolor\":\"white\",\"linecolor\":\"white\",\"ticks\":\"\",\"title\":{\"standoff\":15},\"zerolinecolor\":\"white\",\"automargin\":true,\"zerolinewidth\":2},\"yaxis\":{\"gridcolor\":\"white\",\"linecolor\":\"white\",\"ticks\":\"\",\"title\":{\"standoff\":15},\"zerolinecolor\":\"white\",\"automargin\":true,\"zerolinewidth\":2},\"scene\":{\"xaxis\":{\"backgroundcolor\":\"#E5ECF6\",\"gridcolor\":\"white\",\"linecolor\":\"white\",\"showbackground\":true,\"ticks\":\"\",\"zerolinecolor\":\"white\",\"gridwidth\":2},\"yaxis\":{\"backgroundcolor\":\"#E5ECF6\",\"gridcolor\":\"white\",\"linecolor\":\"white\",\"showbackground\":true,\"ticks\":\"\",\"zerolinecolor\":\"white\",\"gridwidth\":2},\"zaxis\":{\"backgroundcolor\":\"#E5ECF6\",\"gridcolor\":\"white\",\"linecolor\":\"white\",\"showbackground\":true,\"ticks\":\"\",\"zerolinecolor\":\"white\",\"gridwidth\":2}},\"shapedefaults\":{\"line\":{\"color\":\"#2a3f5f\"}},\"annotationdefaults\":{\"arrowcolor\":\"#2a3f5f\",\"arrowhead\":0,\"arrowwidth\":1},\"geo\":{\"bgcolor\":\"white\",\"landcolor\":\"#E5ECF6\",\"subunitcolor\":\"white\",\"showland\":true,\"showlakes\":true,\"lakecolor\":\"white\"},\"title\":{\"x\":0.05},\"mapbox\":{\"style\":\"light\"}}},\"margin\":{\"b\":90},\"title\":{\"text\":\"Cross-validation\"}},                        {\"responsive\": true}                    ).then(function(){\n",
       "                            \n",
       "var gd = document.getElementById('8f298962-779e-4e20-963f-e74b941e2a0d');\n",
       "var x = new MutationObserver(function (mutations, observer) {{\n",
       "        var display = window.getComputedStyle(gd).display;\n",
       "        if (!display || display === 'none') {{\n",
       "            console.log([gd, 'removed!']);\n",
       "            Plotly.purge(gd);\n",
       "            observer.disconnect();\n",
       "        }}\n",
       "}});\n",
       "\n",
       "// Listen for the removal of the full notebook cells\n",
       "var notebookContainer = gd.closest('#notebook-container');\n",
       "if (notebookContainer) {{\n",
       "    x.observe(notebookContainer, {childList: true});\n",
       "}}\n",
       "\n",
       "// Listen for the clearing of the current output cell\n",
       "var outputEl = gd.closest('.output');\n",
       "if (outputEl) {{\n",
       "    x.observe(outputEl, {childList: true});\n",
       "}}\n",
       "\n",
       "                        })                };                });            </script>        </div>"
      ]
     },
     "metadata": {},
     "output_type": "display_data"
    }
   ],
   "source": [
    "from ax.modelbridge.cross_validation import compute_diagnostics, cross_validate\n",
    "from ax.plot.diagnostic import interact_cross_validation_plotly\n",
    "from ax.utils.notebook.plotting import init_notebook_plotting, render\n",
    "\n",
    "cv = cross_validate(model=gs.model)  # The surrogate model is stored on the GenerationStrategy\n",
    "compute_diagnostics(cv)\n",
    "\n",
    "interact_cross_validation_plotly(cv)"
   ]
  },
  {
   "cell_type": "code",
   "execution_count": null,
   "id": "87d370d5",
   "metadata": {},
   "outputs": [],
   "source": []
  }
 ],
 "metadata": {
  "kernelspec": {
   "display_name": "Python 3 (ipykernel)",
   "language": "python",
   "name": "python3"
  },
  "language_info": {
   "codemirror_mode": {
    "name": "ipython",
    "version": 3
   },
   "file_extension": ".py",
   "mimetype": "text/x-python",
   "name": "python",
   "nbconvert_exporter": "python",
   "pygments_lexer": "ipython3",
   "version": "3.10.4"
  }
 },
 "nbformat": 4,
 "nbformat_minor": 5
}
