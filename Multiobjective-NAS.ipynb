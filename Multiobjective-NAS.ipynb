{
 "cells": [
  {
   "cell_type": "markdown",
   "id": "efa4450d",
   "metadata": {},
   "source": [
    "**Hyperparam Search for Baseline:**"
   ]
  },
  {
   "cell_type": "code",
   "execution_count": null,
   "id": "b29595e2",
   "metadata": {},
   "outputs": [],
   "source": [
    "from Multi_Objective_NAS import create_experiment_scheduler, create_NoDropout_experiment_scheduler\n",
    "\n",
    "#config = 'experiment-config-files/mhd_p_HyperParamSearch.txt'\n",
    "config = 'experiment-config-files/Basic_HyperParamSearch.txt'\n",
    "\n",
    "experiment, scheduler = create_NoDropout_experiment_scheduler(config, 'NeurcompTraining.py', 'testvol_', 'NAS_Experiments/TestVol_Baseline_3_WithFeaturesPerLayer/', 60)\n"
   ]
  },
  {
   "cell_type": "code",
   "execution_count": null,
   "id": "16064df2",
   "metadata": {},
   "outputs": [],
   "source": [
    "scheduler.run_all_trials()"
   ]
  },
  {
   "cell_type": "code",
   "execution_count": null,
   "id": "cd6cae8f",
   "metadata": {},
   "outputs": [],
   "source": [
    "from ax.service.utils.report_utils import exp_to_df\n",
    "\n",
    "df = exp_to_df(experiment)\n",
    "df.head(70)"
   ]
  },
  {
   "cell_type": "code",
   "execution_count": null,
   "id": "ac7a2191",
   "metadata": {},
   "outputs": [],
   "source": [
    "from ax.service.utils.report_utils import _pareto_frontier_scatter_2d_plotly\n",
    "\n",
    "_pareto_frontier_scatter_2d_plotly(experiment)"
   ]
  },
  {
   "cell_type": "code",
   "execution_count": null,
   "id": "a1cded64",
   "metadata": {},
   "outputs": [],
   "source": [
    "from ax.modelbridge.cross_validation import compute_diagnostics, cross_validate\n",
    "from ax.plot.diagnostic import interact_cross_validation_plotly\n",
    "from ax.utils.notebook.plotting import init_notebook_plotting, render\n",
    "\n",
    "cv = cross_validate(model=scheduler.generation_strategy.model)  # The surrogate model is stored on the GenerationStrategy\n",
    "compute_diagnostics(cv)\n",
    "\n",
    "interact_cross_validation_plotly(cv)"
   ]
  },
  {
   "cell_type": "code",
   "execution_count": null,
   "id": "87d370d5",
   "metadata": {},
   "outputs": [],
   "source": [
    "from ax.plot.contour import interact_contour_plotly\n",
    "\n",
    "interact_contour_plotly(model=scheduler.generation_strategy.model, metric_name=\"compression_ratio\")"
   ]
  },
  {
   "cell_type": "code",
   "execution_count": null,
   "id": "fe176018",
   "metadata": {},
   "outputs": [],
   "source": [
    "interact_contour_plotly(model=scheduler.generation_strategy.model, metric_name=\"psnr\")"
   ]
  },
  {
   "cell_type": "markdown",
   "id": "6e29ccf9",
   "metadata": {},
   "source": [
    "**Hyperparam Search for Dropout:**"
   ]
  },
  {
   "cell_type": "code",
   "execution_count": null,
   "id": "06bf5828",
   "metadata": {},
   "outputs": [],
   "source": [
    "from Multi_Objective_NAS import create_experiment_scheduler\n",
    "\n",
    "config = 'experiment-config-files/mhd_p_HyperParamSearch.txt'\n",
    "experiment_drop, scheduler_drop = create_experiment_scheduler(config, 'NeurcompTraining.py', 'testvol_', 'NAS_Experiments/TestVol_Smallify_3_WithFeaturesPerLayer/', 70)"
   ]
  },
  {
   "cell_type": "code",
   "execution_count": null,
   "id": "1ad9fffc",
   "metadata": {},
   "outputs": [],
   "source": [
    "scheduler_drop.run_all_trials()"
   ]
  },
  {
   "cell_type": "code",
   "execution_count": null,
   "id": "5b11e0f2",
   "metadata": {},
   "outputs": [],
   "source": [
    "from ax.service.utils.report_utils import exp_to_df\n",
    "df = exp_to_df(experiment_drop)\n",
    "df.head(70)"
   ]
  },
  {
   "cell_type": "code",
   "execution_count": null,
   "id": "15ee477d",
   "metadata": {},
   "outputs": [],
   "source": [
    "from ax.service.utils.report_utils import _pareto_frontier_scatter_2d_plotly\n",
    "\n",
    "_pareto_frontier_scatter_2d_plotly(experiment_drop)"
   ]
  }
 ],
 "metadata": {
  "kernelspec": {
   "display_name": "Python 3 (ipykernel)",
   "language": "python",
   "name": "python3"
  },
  "language_info": {
   "codemirror_mode": {
    "name": "ipython",
    "version": 3
   },
   "file_extension": ".py",
   "mimetype": "text/x-python",
   "name": "python",
   "nbconvert_exporter": "python",
   "pygments_lexer": "ipython3",
   "version": "3.10.4"
  }
 },
 "nbformat": 4,
 "nbformat_minor": 5
}
