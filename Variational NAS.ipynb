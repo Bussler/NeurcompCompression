{
 "cells": [
  {
   "cell_type": "markdown",
   "id": "ec348f64",
   "metadata": {},
   "source": [
    "**Hyperparam Search for Var Dropout:**"
   ]
  },
  {
   "cell_type": "code",
   "execution_count": null,
   "id": "e425ca4e",
   "metadata": {},
   "outputs": [],
   "source": [
    "from Multi_Objective_NAS import create_variational_experiment_scheduler\n",
    "\n",
    "#config_variational = 'experiment-config-files/mhd_p_Variational_HyperparamSearch.txt'\n",
    "config_variational = 'experiment-config-files/Basic_HyperParamSearch.txt'\n",
    "\n",
    "experiment_variational, scheduler_variational = create_variational_experiment_scheduler(config_variational, 'NeurcompTraining.py', 'testvol', 'NAS_Experiments/TestVol_Variational_Dynamic_3_FreeSearch/', 70)"
   ]
  },
  {
   "cell_type": "code",
   "execution_count": null,
   "id": "7c234bc4",
   "metadata": {},
   "outputs": [],
   "source": [
    "scheduler_variational.run_all_trials()"
   ]
  },
  {
   "cell_type": "code",
   "execution_count": null,
   "id": "5dd3aa77",
   "metadata": {},
   "outputs": [],
   "source": [
    "from ax.service.utils.report_utils import exp_to_df\n",
    "df = exp_to_df(experiment_variational)\n",
    "df.head(70)"
   ]
  },
  {
   "cell_type": "code",
   "execution_count": null,
   "id": "d0093d5e",
   "metadata": {},
   "outputs": [],
   "source": [
    "from ax.service.utils.report_utils import _pareto_frontier_scatter_2d_plotly\n",
    "\n",
    "_pareto_frontier_scatter_2d_plotly(experiment_variational)"
   ]
  },
  {
   "cell_type": "code",
   "execution_count": null,
   "id": "500376dc",
   "metadata": {},
   "outputs": [],
   "source": [
    "from ax.plot.contour import interact_contour_plotly\n",
    "\n",
    "interact_contour_plotly(model=scheduler_variational.generation_strategy.model, metric_name=\"compression_ratio\")"
   ]
  },
  {
   "cell_type": "code",
   "execution_count": null,
   "id": "3f7bd3d7",
   "metadata": {},
   "outputs": [],
   "source": [
    "interact_contour_plotly(model=scheduler_variational.generation_strategy.model, metric_name=\"psnr\")"
   ]
  },
  {
   "cell_type": "code",
   "execution_count": null,
   "id": "b52b3c89",
   "metadata": {},
   "outputs": [],
   "source": []
  }
 ],
 "metadata": {
  "kernelspec": {
   "display_name": "Python 3 (ipykernel)",
   "language": "python",
   "name": "python3"
  },
  "language_info": {
   "codemirror_mode": {
    "name": "ipython",
    "version": 3
   },
   "file_extension": ".py",
   "mimetype": "text/x-python",
   "name": "python",
   "nbconvert_exporter": "python",
   "pygments_lexer": "ipython3",
   "version": "3.8.12"
  }
 },
 "nbformat": 4,
 "nbformat_minor": 5
}
